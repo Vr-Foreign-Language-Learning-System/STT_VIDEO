{
 "cells": [
  {
   "cell_type": "code",
   "execution_count": 1,
   "id": "d0044a1a",
   "metadata": {},
   "outputs": [],
   "source": [
    "import requests\n",
    "import json"
   ]
  },
  {
   "cell_type": "code",
   "execution_count": 2,
   "id": "82694451",
   "metadata": {},
   "outputs": [],
   "source": [
    "url = \"https://kakaoi-newtone-openapi.kakao.com/v1/recognize\""
   ]
  },
  {
   "cell_type": "code",
   "execution_count": 3,
   "id": "cfad50b2",
   "metadata": {},
   "outputs": [],
   "source": [
    "header = {\"Content-Type\" : \"application/octet-stream\",\n",
    "         \"Authorization\":\"KakaoAK \" + \"7748e5d97a9f267505e5cfe8c8da9003\"}"
   ]
  },
  {
   "cell_type": "code",
   "execution_count": 4,
   "id": "43df817a",
   "metadata": {},
   "outputs": [
    {
     "name": "stdout",
     "output_type": "stream",
     "text": [
      "Say something!\n"
     ]
    }
   ],
   "source": [
    "import speech_recognition as sr\n",
    "\n",
    "# microphone에서 auido source를 생성합니다\n",
    "r = sr.Recognizer()\n",
    "with sr.Microphone(sample_rate=16000) as source:\n",
    "    print(\"Say something!\")\n",
    "    audio = r.listen(source)"
   ]
  },
  {
   "cell_type": "code",
   "execution_count": 5,
   "id": "68489a7d",
   "metadata": {},
   "outputs": [],
   "source": [
    "res = requests.post(url, headers=header, data=audio.get_raw_data())"
   ]
  },
  {
   "cell_type": "code",
   "execution_count": 6,
   "id": "5066e816",
   "metadata": {},
   "outputs": [
    {
     "data": {
      "text/plain": [
       "'------newtone7d03NEo4DIsVWMps\\r\\nContent-Type: application/json; charset=UTF-8\\r\\n\\r\\n{\"type\":\"beginPointDetection\",\"value\":\"BPD\"}\\r\\n------newtone7d03NEo4DIsVWMps\\r\\nContent-Type: application/json; charset=UTF-8\\r\\n\\r\\n{\"type\":\"partialResult\",\"value\":\"야 이\"}\\r\\n------newtone7d03NEo4DIsVWMps\\r\\nContent-Type: application/json; charset=UTF-8\\r\\n\\r\\n{\"type\":\"partialResult\",\"value\":\"아이 소아\"}\\r\\n------newtone7d03NEo4DIsVWMps\\r\\nContent-Type: application/json; charset=UTF-8\\r\\n\\r\\n{\"type\":\"endPointDetection\",\"value\":\"EPD\"}\\r\\n------newtone7d03NEo4DIsVWMps\\r\\nContent-Type: application/json; charset=UTF-8\\r\\nSpeech-Length: 2\\r\\n\\r\\n{\"type\":\"finalResult\",\"value\":\"야 이소현입니다\",\"nBest\":[{\"value\":\"야 이소현입니다\",\"score\":2},{\"value\":\"어이 소아 입니다\",\"score\":0},{\"value\":\"야이 소아 입니다\",\"score\":0},{\"value\":\"야이 소화입니다\",\"score\":0},{\"value\":\"야 이소라입니다\",\"score\":0},{\"value\":\"야 이사입니다\",\"score\":0},{\"value\":\"어서 와 입니다\",\"score\":0}],\"voiceProfile\":{\"registered\":false,\"authenticated\":false},\"durationMS\":2260,\"qmarkScore\":0,\"gender\":0}\\r\\n------newtone7d03NEo4DIsVWMps--\\r\\n'"
      ]
     },
     "execution_count": 6,
     "metadata": {},
     "output_type": "execute_result"
    }
   ],
   "source": [
    "res.text"
   ]
  },
  {
   "cell_type": "code",
   "execution_count": null,
   "id": "f4e4cc16",
   "metadata": {},
   "outputs": [],
   "source": []
  }
 ],
 "metadata": {
  "kernelspec": {
   "display_name": "Python 3",
   "language": "python",
   "name": "python3"
  },
  "language_info": {
   "codemirror_mode": {
    "name": "ipython",
    "version": 3
   },
   "file_extension": ".py",
   "mimetype": "text/x-python",
   "name": "python",
   "nbconvert_exporter": "python",
   "pygments_lexer": "ipython3",
   "version": "3.8.11"
  }
 },
 "nbformat": 4,
 "nbformat_minor": 5
}
