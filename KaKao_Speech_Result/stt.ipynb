{
 "cells": [
  {
   "cell_type": "code",
   "execution_count": 60,
   "id": "15d16eb6",
   "metadata": {},
   "outputs": [
    {
     "name": "stdout",
     "output_type": "stream",
     "text": [
      "MoviePy - Writing audio in [레전드] 겁나웃긴 자매의 장난전화 (욕설 주의).wav\n"
     ]
    },
    {
     "name": "stderr",
     "output_type": "stream",
     "text": [
      "                                                                                "
     ]
    },
    {
     "name": "stdout",
     "output_type": "stream",
     "text": [
      "MoviePy - Done.\n"
     ]
    },
    {
     "name": "stderr",
     "output_type": "stream",
     "text": [
      "\r"
     ]
    }
   ],
   "source": [
    "# 필요 없음!!!\n",
    "# mp4 -> wav\n",
    "\n",
    "from moviepy.editor import *\n",
    "\n",
    "video_dir = '[레전드] 겁나웃긴 자매의 장난전화 (욕설 주의).mp4'\n",
    "audio_dir = '[레전드] 겁나웃긴 자매의 장난전화 (욕설 주의).wav'\n",
    "#video_dir = \"test.mp4\"\n",
    "#audio_dir = \"test.wav\"\n",
    "audioclip = AudioFileClip(video_dir)\n",
    "audioclip.write_audiofile(audio_dir)"
   ]
  },
  {
   "cell_type": "code",
   "execution_count": 1,
   "id": "b7722a86",
   "metadata": {},
   "outputs": [
    {
     "name": "stderr",
     "output_type": "stream",
     "text": [
      "/opt/anaconda3/envs/test/lib/python3.8/site-packages/librosa/core/audio.py:165: UserWarning: PySoundFile failed. Trying audioread instead.\n",
      "  warnings.warn(\"PySoundFile failed. Trying audioread instead.\")\n"
     ]
    },
    {
     "data": {
      "text/plain": [
       "'\\n\\n# 16000 Hz samplerate 변환\\n\\nimport librosa\\nimport soundfile as sf\\n\\ndef down_sample(input_wav, origin_sr, resample_sr):\\n    y, sr = librosa.load(input_wav, sr=origin_sr)\\n    resample = librosa.resample(y, sr, resample_sr)\\n    print(\"original wav sr: {}, original wav shape: {}, resample wav sr: {}, resmaple shape: {}\".format(origin_sr, y.shape, resample_sr, resample.shape))\\n    \\n    \\n    sf.write(\\'./\\' + \\'16\\' + audio_dir, resample, resample_sr, format=\\'WAV\\', endian=\\'LITTLE\\', subtype=\\'PCM_16\\')\\n\\ndown_sample(audio_dir, 44100, 16000)\\n\\n'"
      ]
     },
     "execution_count": 1,
     "metadata": {},
     "output_type": "execute_result"
    }
   ],
   "source": [
    "# 16000 Hz samplerate + 30초 자르기 \n",
    "\n",
    "import librosa\n",
    "import soundfile as sf\n",
    "\n",
    "\n",
    "def trim_audio_data(audio_file, save_file):\n",
    "    sr = 16000\n",
    "    sec = 30\n",
    "    \n",
    "    y, sr = librosa.load(audio_file, sr=sr)\n",
    "    \n",
    "    ny = y[:sr*sec]\n",
    "    \n",
    "    #librosa.output.write_wav(save_file + '.wav', ny, sr)\n",
    "    sf.write(save_file, ny, sr, format='WAV', endian='LITTLE', subtype='PCM_16')\n",
    "    \n",
    "\n",
    "\n",
    "audio_dir = '[레전드] 겁나웃긴 자매의 장난전화 (욕설 주의).mp4'\n",
    "audio_path = '[레전드] 겁나웃긴 자매의 장난전화 (욕설 주의).wav'\n",
    "trim_audio_data(audio_dir, '16_30' + audio_path)\n",
    "\n",
    "\n",
    "# 필요없음 2\n",
    "'''\n",
    "\n",
    "# 16000 Hz samplerate 변환\n",
    "\n",
    "import librosa\n",
    "import soundfile as sf\n",
    "\n",
    "def down_sample(input_wav, origin_sr, resample_sr):\n",
    "    y, sr = librosa.load(input_wav, sr=origin_sr)\n",
    "    resample = librosa.resample(y, sr, resample_sr)\n",
    "    print(\"original wav sr: {}, original wav shape: {}, resample wav sr: {}, resmaple shape: {}\".format(origin_sr, y.shape, resample_sr, resample.shape))\n",
    "    \n",
    "    \n",
    "    sf.write('./' + '16' + audio_dir, resample, resample_sr, format='WAV', endian='LITTLE', subtype='PCM_16')\n",
    "\n",
    "down_sample(audio_dir, 44100, 16000)\n",
    "\n",
    "'''"
   ]
  },
  {
   "cell_type": "code",
   "execution_count": 2,
   "id": "4c9b1b12",
   "metadata": {},
   "outputs": [],
   "source": [
    "# 카카오 stt\n",
    "\n",
    "import requests, json\n",
    "\n",
    "url = \"https://kakaoi-newtone-openapi.kakao.com/v1/recognize\"\n",
    "key = 'adcf0ee166efc28bea1c557a3494b30c'\n",
    "headers = {\n",
    "    \"Content-Type\": \"application/octet-stream\",\n",
    "    #\"X-DSS-Service\": \"DICTATION\",\n",
    "    #\"Transfer-Encoding\":\"chunked\", # 실시간 또는 크기가 큰 음성 파일 전송\n",
    "    \"Authorization\": \"KakaoAK \" + key,\n",
    "}\n"
   ]
  },
  {
   "cell_type": "code",
   "execution_count": 3,
   "id": "98797dce",
   "metadata": {},
   "outputs": [
    {
     "name": "stdout",
     "output_type": "stream",
     "text": [
      "------newtoneSFVhUJkqW2kiIat6\r\n",
      "Content-Type: application/json; charset=UTF-8\r\n",
      "\r\n",
      "{\"type\":\"beginPointDetection\",\"value\":\"BPD\"}\r\n",
      "------newtoneSFVhUJkqW2kiIat6\r\n",
      "Content-Type: application/json; charset=UTF-8\r\n",
      "\r\n",
      "{\"type\":\"partialResult\",\"value\":\"여보세요\"}\r\n",
      "------newtoneSFVhUJkqW2kiIat6\r\n",
      "Content-Type: application/json; charset=UTF-8\r\n",
      "\r\n",
      "{\"type\":\"partialResult\",\"value\":\"여보세요 나\"}\r\n",
      "------newtoneSFVhUJkqW2kiIat6\r\n",
      "Content-Type: application/json; charset=UTF-8\r\n",
      "\r\n",
      "{\"type\":\"partialResult\",\"value\":\"여보세요 나의\"}\r\n",
      "------newtoneSFVhUJkqW2kiIat6\r\n",
      "Content-Type: application/json; charset=UTF-8\r\n",
      "\r\n",
      "{\"type\":\"partialResult\",\"value\":\"여보세요 나의 박쥐를\"}\r\n",
      "------newtoneSFVhUJkqW2kiIat6\r\n",
      "Content-Type: application/json; charset=UTF-8\r\n",
      "\r\n",
      "{\"type\":\"partialResult\",\"value\":\"여보세요 나의 박쥐 미친년\"}\r\n",
      "------newtoneSFVhUJkqW2kiIat6\r\n",
      "Content-Type: application/json; charset=UTF-8\r\n",
      "\r\n",
      "{\"type\":\"partialResult\",\"value\":\"여보세요 나의 박쥐 미친년 니가\"}\r\n",
      "------newtoneSFVhUJkqW2kiIat6\r\n",
      "Content-Type: application/json; charset=UTF-8\r\n",
      "\r\n",
      "{\"type\":\"partialResult\",\"value\":\"여보세요 나의 박쥐 미친년 니가 잘 있었냐\"}\r\n",
      "------newtoneSFVhUJkqW2kiIat6\r\n",
      "Content-Type: application/json; charset=UTF-8\r\n",
      "\r\n",
      "{\"type\":\"endPointDetection\",\"value\":\"EPD\"}\r\n",
      "------newtoneSFVhUJkqW2kiIat6\r\n",
      "Content-Type: application/json; charset=UTF-8\r\n",
      "Speech-Length: 30\r\n",
      "\r\n",
      "{\"type\":\"finalResult\",\"value\":\"여보세요 나의 박쥐 미친년아 니가 잘 있었냐\",\"nBest\":[{\"value\":\"여보세요 나의 박쥐 미친년아 니가 잘 있었냐\",\"score\":3},{\"value\":\"여보세요 나의 박쥐 미친년 니가 잘 있었냐\",\"score\":1}],\"voiceProfile\":{\"registered\":false,\"authenticated\":false},\"durationMS\":9820,\"qmarkScore\":0,\"gender\":0}\r\n",
      "------newtoneSFVhUJkqW2kiIat6--\r\n",
      "\n"
     ]
    }
   ],
   "source": [
    "# stt 적용\n",
    "\n",
    "#file = '16_25_복사본.wav'\n",
    "file = '16_30' + '[레전드] 겁나웃긴 자매의 장난전화 (욕설 주의).wav'\n",
    "#file = '16레전드욕설.wav'\n",
    "#file = '16test.wav'\n",
    "#file = 'heykakao.wav'\n",
    "#file = '[레전드] 겁나웃긴 자매의 장난전화 (욕설 주의).mp3'\n",
    "\n",
    "with open(file, 'rb') as fp:\n",
    "    audio = fp.read()\n",
    "\n",
    "res = requests.post(url, headers=headers, data=audio)\n",
    "print(res.text)\n",
    "\n"
   ]
  },
  {
   "cell_type": "code",
   "execution_count": 4,
   "id": "32a910d9",
   "metadata": {},
   "outputs": [
    {
     "name": "stdout",
     "output_type": "stream",
     "text": [
      "{'type': 'finalResult', 'value': '여보세요 나의 박쥐 미친년아 니가 잘 있었냐', 'nBest': [{'value': '여보세요 나의 박쥐 미친년아 니가 잘 있었냐', 'score': 3}, {'value': '여보세요 나의 박쥐 미친년 니가 잘 있었냐', 'score': 1}], 'voiceProfile': {'registered': False, 'authenticated': False}, 'durationMS': 9820, 'qmarkScore': 0, 'gender': 0}\n",
      "여보세요 나의 박쥐 미친년아 니가 잘 있었냐\n"
     ]
    }
   ],
   "source": [
    "# final result 추출\n",
    "result_json_string = res.text[res.text.index('{\"type\":\"finalResult\"'):res.text.rindex('}')+1]\n",
    "result = json.loads(result_json_string)\n",
    "print(result)\n",
    "print(result['value'])"
   ]
  },
  {
   "cell_type": "code",
   "execution_count": null,
   "id": "cd34fe2e",
   "metadata": {},
   "outputs": [],
   "source": []
  }
 ],
 "metadata": {
  "kernelspec": {
   "display_name": "Python 3 (ipykernel)",
   "language": "python",
   "name": "python3"
  },
  "language_info": {
   "codemirror_mode": {
    "name": "ipython",
    "version": 3
   },
   "file_extension": ".py",
   "mimetype": "text/x-python",
   "name": "python",
   "nbconvert_exporter": "python",
   "pygments_lexer": "ipython3",
   "version": "3.8.10"
  }
 },
 "nbformat": 4,
 "nbformat_minor": 5
}
