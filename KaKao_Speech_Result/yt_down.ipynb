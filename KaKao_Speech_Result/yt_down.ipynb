{
 "cells": [
  {
   "cell_type": "code",
   "execution_count": 1,
   "id": "e238349b",
   "metadata": {},
   "outputs": [],
   "source": [
    "from pytube import YouTube"
   ]
  },
  {
   "cell_type": "code",
   "execution_count": 2,
   "id": "d70f74ed",
   "metadata": {},
   "outputs": [],
   "source": [
    "#video_url = 'https://www.youtube.com/watch?v=b70Nneuj1h0'\n",
    "#video_url = 'https://www.youtube.com/watch?v=mQeU8P9Y_L8'\n",
    "video_url = 'https://www.youtube.com/watch?v=_JHb5VjjDV8'\n",
    "yt = YouTube(video_url)"
   ]
  },
  {
   "cell_type": "code",
   "execution_count": 3,
   "id": "edae5d1a",
   "metadata": {},
   "outputs": [
    {
     "name": "stdout",
     "output_type": "stream",
     "text": [
      "[영상 제목] [햇살] 영화 써니vs소녀시대 욕배틀 자막ver\n",
      "[영상 게시자] Jin Choi\n"
     ]
    }
   ],
   "source": [
    "print(\"[영상 제목]\", yt.title)  # 영상제목\n",
    "print(\"[영상 게시자]\", yt.author) # 영상 게시자"
   ]
  },
  {
   "cell_type": "code",
   "execution_count": 5,
   "id": "d2fca284",
   "metadata": {},
   "outputs": [
    {
     "data": {
      "text/plain": [
       "'/Users/sy/Code/pbl/[햇살] 영화 써니vs소녀시대 욕배틀 자막ver.mp4'"
      ]
     },
     "execution_count": 5,
     "metadata": {},
     "output_type": "execute_result"
    }
   ],
   "source": [
    "yt.streams.filter(only_audio = True)\n",
    "stream = yt.streams.filter(only_audio = True)[1]\n",
    "stream.download()"
   ]
  },
  {
   "cell_type": "code",
   "execution_count": 6,
   "id": "febff13d",
   "metadata": {},
   "outputs": [
    {
     "name": "stderr",
     "output_type": "stream",
     "text": [
      "/var/folders/hx/xqnydk1926g5crmbh0brc6c40000gn/T/ipykernel_89971/3016310646.py:1: DeprecationWarning: Call to deprecated function all (This object can be treated as a list, all() is useless).\n",
      "  stream = yt.streams.filter(only_audio = True).all()[0]\n"
     ]
    },
    {
     "data": {
      "text/plain": [
       "'/Users/sy/Code/test.mp4'"
      ]
     },
     "execution_count": 6,
     "metadata": {},
     "output_type": "execute_result"
    }
   ],
   "source": [
    "#stream = yt.streams.filter(only_audio = True)[0]\n",
    "#stream = yt.streams.filter(only_audio = True).all()[4]\n",
    "#stream.download(filename = \"test.mp4\")"
   ]
  },
  {
   "cell_type": "code",
   "execution_count": null,
   "id": "5d0305f1",
   "metadata": {},
   "outputs": [],
   "source": []
  }
 ],
 "metadata": {
  "kernelspec": {
   "display_name": "Python 3 (ipykernel)",
   "language": "python",
   "name": "python3"
  },
  "language_info": {
   "codemirror_mode": {
    "name": "ipython",
    "version": 3
   },
   "file_extension": ".py",
   "mimetype": "text/x-python",
   "name": "python",
   "nbconvert_exporter": "python",
   "pygments_lexer": "ipython3",
   "version": "3.8.10"
  }
 },
 "nbformat": 4,
 "nbformat_minor": 5
}
