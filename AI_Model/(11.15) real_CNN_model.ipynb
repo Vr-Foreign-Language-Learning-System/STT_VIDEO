{
 "cells": [
  {
   "cell_type": "code",
   "execution_count": 3,
   "id": "f3310ae2",
   "metadata": {},
   "outputs": [],
   "source": [
    "import tensorflow as tf\n",
    "from tensorflow.keras.preprocessing.sequence import pad_sequences\n",
    "from tensorflow.keras.callbacks import EarlyStopping, ModelCheckpoint\n",
    "from tensorflow.keras import layers\n",
    "\n",
    "import numpy as np\n",
    "import pandas as pd\n",
    "\n",
    "import matplotlib.pyplot as plt\n",
    "import os\n",
    "import json\n",
    "\n",
    "from tqdm import tqdm"
   ]
  },
  {
   "cell_type": "code",
   "execution_count": 4,
   "id": "27fd45c3",
   "metadata": {},
   "outputs": [],
   "source": [
    "# 시각화 함수\n",
    "def plot_graphs(history, string):\n",
    "    plt.plot(history.history[string])\n",
    "    plt.plot(history.history['val_'+string], '')\n",
    "    plt.xlabel(\"Epochs\")\n",
    "    plt.ylabel(string)\n",
    "    plt.legend([string, 'val_'+string])\n",
    "    plt.show()"
   ]
  },
  {
   "cell_type": "code",
   "execution_count": 5,
   "id": "ea9f9fc4",
   "metadata": {},
   "outputs": [],
   "source": [
    "# 경로 정의\n",
    "DATA_IN_PATH = 'D:/PBL 스터디/PBL 실습/pbl_data_in/'\n",
    "DATA_OUT_PATH = 'D:/PBL 스터디/PBL 실습/pbl_data_out/'\n",
    "INPUT_TRAIN_DATA = 'real_train_input_38.npy'\n",
    "LABEL_TRAIN_DATA = 'real_train_label_38.npy'\n",
    "DATA_CONFIGS = 'real_data_configs_38.json'\n",
    "\n",
    "# 랜덤 시드 고정\n",
    "SEED_NUM = 1234\n",
    "tf.random.set_seed(SEED_NUM)\n",
    "\n",
    "train_input = np.load(open(DATA_IN_PATH + INPUT_TRAIN_DATA, 'rb'))\n",
    "train_input = pad_sequences(train_input, maxlen=train_input.shape[1])\n",
    "train_label = np.load(open(DATA_IN_PATH + LABEL_TRAIN_DATA, 'rb'),allow_pickle = True)\n",
    "#prepro_configs = json.load(open(DATA_IN_PATH + DATA_CONFIGS, 'r'))\n",
    "prepro_configs = json.load(open(DATA_IN_PATH + DATA_CONFIGS, 'rt', encoding='UTF8'))"
   ]
  },
  {
   "cell_type": "code",
   "execution_count": 6,
   "id": "88fd408e",
   "metadata": {},
   "outputs": [],
   "source": [
    "# 모델 하이퍼파라미터 정의 \n",
    "model_name = 'cnn_classifier_kr'\n",
    "BATCH_SIZE = 512\n",
    "NUM_EPOCHS = 10 #10\n",
    "VALID_SPLIT = 0.1 #0.1\n",
    "MAX_LEN = train_input.shape[1]\n",
    "\n",
    "kargs = {'model_name': model_name,\n",
    "        'vocab_size': prepro_configs['vocab_size'],\n",
    "        'embedding_size': 32,\n",
    "        'num_filters': 100, #100\n",
    "        'dropout_rate': 0.5,\n",
    "        'hidden_dimension': 250,\n",
    "        'output_dimension':1}"
   ]
  },
  {
   "cell_type": "code",
   "execution_count": 7,
   "id": "bd961dc3",
   "metadata": {},
   "outputs": [
    {
     "data": {
      "text/plain": [
       "23091"
      ]
     },
     "execution_count": 7,
     "metadata": {},
     "output_type": "execute_result"
    }
   ],
   "source": [
    "prepro_configs['vocab_size']"
   ]
  },
  {
   "cell_type": "code",
   "execution_count": 8,
   "id": "e23b3ba7",
   "metadata": {},
   "outputs": [],
   "source": [
    "# 모델 선언 및 컴파일 \n",
    "class CNNClassifier(tf.keras.Model):\n",
    "    \n",
    "    def __init__(self, **kargs):\n",
    "        super(CNNClassifier, self).__init__(name=kargs['model_name'])\n",
    "        self.embedding = layers.Embedding(input_dim=kargs['vocab_size'],\n",
    "                                     output_dim=kargs['embedding_size'])\n",
    "        self.conv_list = [layers.Conv1D(filters=kargs['num_filters'],\n",
    "                                   kernel_size=kernel_size,\n",
    "                                   padding='valid',\n",
    "                                   activation=tf.keras.activations.relu,\n",
    "                                   kernel_constraint=tf.keras.constraints.MaxNorm(max_value=3.))\n",
    "                     for kernel_size in [3,4,5]]\n",
    "        self.pooling = layers.GlobalMaxPooling1D()\n",
    "        self.dropout = layers.Dropout(kargs['dropout_rate'])\n",
    "        self.fc1 = layers.Dense(units=kargs['hidden_dimension'],\n",
    "                           activation=tf.keras.activations.relu,\n",
    "                           kernel_constraint=tf.keras.constraints.MaxNorm(max_value=3.))\n",
    "        self.pooling = layers.GlobalMaxPooling1D()\n",
    "        self.dropout = layers.Dropout(kargs['dropout_rate'])\n",
    "        self.fc2 = layers.Dense(units=kargs['hidden_dimension'],\n",
    "                           activation=tf.keras.activations.relu,\n",
    "                           kernel_constraint=tf.keras.constraints.MaxNorm(max_value=3.))\n",
    "        self.pooling = layers.GlobalMaxPooling1D()\n",
    "        self.dropout = layers.Dropout(kargs['dropout_rate'])\n",
    "        self.fc3 = layers.Dense(units=kargs['output_dimension'],\n",
    "                           activation=tf.keras.activations.sigmoid,\n",
    "                           kernel_constraint=tf.keras.constraints.MaxNorm(max_value=3.))\n",
    "    \n",
    "    def call(self, x):\n",
    "        x = self.embedding(x)\n",
    "        x = self.dropout(x)\n",
    "        x = tf.concat([self.pooling(conv(x)) for conv in self.conv_list], axis=-1)\n",
    "        x = self.fc1(x)\n",
    "        x = self.dropout(x)\n",
    "        x = self.fc2(x)\n",
    "        x = self.dropout(x)\n",
    "        x = self.fc3(x)\n",
    "        \n",
    "        return x"
   ]
  },
  {
   "cell_type": "code",
   "execution_count": 9,
   "id": "8fe8fa86",
   "metadata": {},
   "outputs": [],
   "source": [
    "model = CNNClassifier(**kargs)\n",
    "\n",
    "model.compile(optimizer=tf.keras.optimizers.Adam(),\n",
    "              loss=tf.keras.losses.BinaryCrossentropy(),\n",
    "              metrics=[tf.keras.metrics.BinaryAccuracy(name='accuracy')])"
   ]
  },
  {
   "cell_type": "code",
   "execution_count": 10,
   "id": "eb94f77d",
   "metadata": {},
   "outputs": [
    {
     "name": "stdout",
     "output_type": "stream",
     "text": [
      "D:/PBL 스터디/PBL 실습/pbl_data_out/cnn_classifier_kr -- Folder already exists \n",
      "\n"
     ]
    }
   ],
   "source": [
    "# overfitting을 막기 위한 ealrystop 추가\n",
    "earlystop_callback = EarlyStopping(monitor='val_accuracy', min_delta=0.0001,patience=2)\n",
    "checkpoint_path = DATA_OUT_PATH + model_name + '/weights.h5'\n",
    "checkpoint_dir = os.path.dirname(checkpoint_path)\n",
    "\n",
    "if os.path.exists(checkpoint_dir):\n",
    "    print(\"{} -- Folder already exists \\n\".format(checkpoint_dir))\n",
    "else:\n",
    "    os.makedirs(checkpoint_dir, exist_ok=True)\n",
    "    print(\"{} -- Folder create complete \\n\".format(checkpoint_dir))\n",
    "    \n",
    "\n",
    "cp_callback = ModelCheckpoint(\n",
    "    checkpoint_path, monitor='val_accuracy', verbose=1, save_best_only=True, save_weights_only=True)"
   ]
  },
  {
   "cell_type": "code",
   "execution_count": 11,
   "id": "d6c3aa82",
   "metadata": {},
   "outputs": [
    {
     "name": "stdout",
     "output_type": "stream",
     "text": [
      "Epoch 1/10\n",
      "36/36 [==============================] - 4s 70ms/step - loss: 0.6871 - accuracy: 0.5574 - val_loss: 0.7259 - val_accuracy: 0.0940\n",
      "\n",
      "Epoch 00001: val_accuracy improved from -inf to 0.09400, saving model to D:/PBL 스터디/PBL 실습/pbl_data_out/cnn_classifier_kr\\weights.h5\n",
      "Epoch 2/10\n",
      "36/36 [==============================] - 2s 69ms/step - loss: 0.6523 - accuracy: 0.6258 - val_loss: 0.5077 - val_accuracy: 0.7125\n",
      "\n",
      "Epoch 00002: val_accuracy improved from 0.09400 to 0.71250, saving model to D:/PBL 스터디/PBL 실습/pbl_data_out/cnn_classifier_kr\\weights.h5\n",
      "Epoch 3/10\n",
      "36/36 [==============================] - 3s 77ms/step - loss: 0.4352 - accuracy: 0.8013 - val_loss: 0.6684 - val_accuracy: 0.6930\n",
      "\n",
      "Epoch 00003: val_accuracy did not improve from 0.71250\n",
      "Epoch 4/10\n",
      "36/36 [==============================] - 3s 73ms/step - loss: 0.3103 - accuracy: 0.8709 - val_loss: 0.6633 - val_accuracy: 0.7575\n",
      "\n",
      "Epoch 00004: val_accuracy improved from 0.71250 to 0.75750, saving model to D:/PBL 스터디/PBL 실습/pbl_data_out/cnn_classifier_kr\\weights.h5\n",
      "Epoch 5/10\n",
      "36/36 [==============================] - 3s 75ms/step - loss: 0.2381 - accuracy: 0.9109 - val_loss: 0.7410 - val_accuracy: 0.7685\n",
      "\n",
      "Epoch 00005: val_accuracy improved from 0.75750 to 0.76850, saving model to D:/PBL 스터디/PBL 실습/pbl_data_out/cnn_classifier_kr\\weights.h5\n",
      "Epoch 6/10\n",
      "36/36 [==============================] - 2s 64ms/step - loss: 0.1829 - accuracy: 0.9328 - val_loss: 0.7065 - val_accuracy: 0.7885\n",
      "\n",
      "Epoch 00006: val_accuracy improved from 0.76850 to 0.78850, saving model to D:/PBL 스터디/PBL 실습/pbl_data_out/cnn_classifier_kr\\weights.h5\n",
      "Epoch 7/10\n",
      "36/36 [==============================] - 2s 63ms/step - loss: 0.1528 - accuracy: 0.9457 - val_loss: 0.7853 - val_accuracy: 0.7855\n",
      "\n",
      "Epoch 00007: val_accuracy did not improve from 0.78850\n",
      "Epoch 8/10\n",
      "36/36 [==============================] - 2s 65ms/step - loss: 0.1231 - accuracy: 0.9569 - val_loss: 0.8371 - val_accuracy: 0.7875\n",
      "\n",
      "Epoch 00008: val_accuracy did not improve from 0.78850\n"
     ]
    }
   ],
   "source": [
    "history = model.fit(train_input, train_label, batch_size=BATCH_SIZE, epochs=NUM_EPOCHS,\n",
    "                    validation_split=VALID_SPLIT, callbacks=[earlystop_callback, cp_callback])"
   ]
  },
  {
   "cell_type": "code",
   "execution_count": 12,
   "id": "634fbdf2",
   "metadata": {
    "scrolled": true
   },
   "outputs": [
    {
     "ename": "NameError",
     "evalue": "name 'plt' is not defined",
     "output_type": "error",
     "traceback": [
      "\u001b[1;31m---------------------------------------------------------------------------\u001b[0m",
      "\u001b[1;31mNameError\u001b[0m                                 Traceback (most recent call last)",
      "\u001b[1;32m~\\AppData\\Local\\Temp/ipykernel_14252/161173599.py\u001b[0m in \u001b[0;36m<module>\u001b[1;34m\u001b[0m\n\u001b[0;32m      1\u001b[0m \u001b[1;31m# 결과 플롯\u001b[0m\u001b[1;33m\u001b[0m\u001b[1;33m\u001b[0m\u001b[1;33m\u001b[0m\u001b[0m\n\u001b[1;32m----> 2\u001b[1;33m \u001b[0mplot_graphs\u001b[0m\u001b[1;33m(\u001b[0m\u001b[0mhistory\u001b[0m\u001b[1;33m,\u001b[0m \u001b[1;34m'loss'\u001b[0m\u001b[1;33m)\u001b[0m\u001b[1;33m\u001b[0m\u001b[1;33m\u001b[0m\u001b[0m\n\u001b[0m",
      "\u001b[1;32m~\\AppData\\Local\\Temp/ipykernel_14252/963331635.py\u001b[0m in \u001b[0;36mplot_graphs\u001b[1;34m(history, string)\u001b[0m\n\u001b[0;32m      1\u001b[0m \u001b[1;31m# 시각화 함수\u001b[0m\u001b[1;33m\u001b[0m\u001b[1;33m\u001b[0m\u001b[1;33m\u001b[0m\u001b[0m\n\u001b[0;32m      2\u001b[0m \u001b[1;32mdef\u001b[0m \u001b[0mplot_graphs\u001b[0m\u001b[1;33m(\u001b[0m\u001b[0mhistory\u001b[0m\u001b[1;33m,\u001b[0m \u001b[0mstring\u001b[0m\u001b[1;33m)\u001b[0m\u001b[1;33m:\u001b[0m\u001b[1;33m\u001b[0m\u001b[1;33m\u001b[0m\u001b[0m\n\u001b[1;32m----> 3\u001b[1;33m     \u001b[0mplt\u001b[0m\u001b[1;33m.\u001b[0m\u001b[0mplot\u001b[0m\u001b[1;33m(\u001b[0m\u001b[0mhistory\u001b[0m\u001b[1;33m.\u001b[0m\u001b[0mhistory\u001b[0m\u001b[1;33m[\u001b[0m\u001b[0mstring\u001b[0m\u001b[1;33m]\u001b[0m\u001b[1;33m)\u001b[0m\u001b[1;33m\u001b[0m\u001b[1;33m\u001b[0m\u001b[0m\n\u001b[0m\u001b[0;32m      4\u001b[0m     \u001b[0mplt\u001b[0m\u001b[1;33m.\u001b[0m\u001b[0mplot\u001b[0m\u001b[1;33m(\u001b[0m\u001b[0mhistory\u001b[0m\u001b[1;33m.\u001b[0m\u001b[0mhistory\u001b[0m\u001b[1;33m[\u001b[0m\u001b[1;34m'val_'\u001b[0m\u001b[1;33m+\u001b[0m\u001b[0mstring\u001b[0m\u001b[1;33m]\u001b[0m\u001b[1;33m,\u001b[0m \u001b[1;34m''\u001b[0m\u001b[1;33m)\u001b[0m\u001b[1;33m\u001b[0m\u001b[1;33m\u001b[0m\u001b[0m\n\u001b[0;32m      5\u001b[0m     \u001b[0mplt\u001b[0m\u001b[1;33m.\u001b[0m\u001b[0mxlabel\u001b[0m\u001b[1;33m(\u001b[0m\u001b[1;34m\"Epochs\"\u001b[0m\u001b[1;33m)\u001b[0m\u001b[1;33m\u001b[0m\u001b[1;33m\u001b[0m\u001b[0m\n",
      "\u001b[1;31mNameError\u001b[0m: name 'plt' is not defined"
     ]
    }
   ],
   "source": [
    "# 결과 플롯\n",
    "plot_graphs(history, 'loss')"
   ]
  },
  {
   "cell_type": "code",
   "execution_count": null,
   "id": "8a17a2d6",
   "metadata": {},
   "outputs": [],
   "source": [
    "plot_graphs(history, 'accuracy')"
   ]
  },
  {
   "cell_type": "code",
   "execution_count": 13,
   "id": "3fbae27b",
   "metadata": {},
   "outputs": [],
   "source": [
    "# 결과 평가하기 \n",
    "DATA_IN_PATH = 'D:/PBL 스터디/PBL 실습/pbl_data_in/'\n",
    "DATA_OUT_PATH = 'D:/PBL 스터디/PBL 실습/pbl_data_out/'\n",
    "INPUT_TEST_DATA = 'real_test_input_38.npy'\n",
    "LABEL_TEST_DATA = 'real_test_label_38.npy'\n",
    "#SAVE_FILE_NM = 'custom_model.h5'\n",
    "SAVE_WEIGHTS_FILE_NM = 'weights.h5' #저장된 best model 이름\n",
    "\n",
    "test_input = np.load(open(DATA_IN_PATH + INPUT_TEST_DATA, 'rb'))\n",
    "test_input = pad_sequences(test_input, maxlen=test_input.shape[1])\n",
    "test_label_data = np.load(open(DATA_IN_PATH + LABEL_TEST_DATA, 'rb'))"
   ]
  },
  {
   "cell_type": "code",
   "execution_count": 14,
   "id": "aab76fc0",
   "metadata": {},
   "outputs": [],
   "source": [
    "#model.load_weights(os.path.join(DATA_OUT_PATH, model_name, SAVE_FILE_NM))\n",
    "model.load_weights(os.path.join(DATA_OUT_PATH, model_name, SAVE_WEIGHTS_FILE_NM))"
   ]
  },
  {
   "cell_type": "code",
   "execution_count": 15,
   "id": "87594274",
   "metadata": {},
   "outputs": [
    {
     "name": "stdout",
     "output_type": "stream",
     "text": [
      "63/63 [==============================] - 0s 2ms/step - loss: 1.2383 - accuracy: 0.6005\n"
     ]
    },
    {
     "data": {
      "text/plain": [
       "[1.2383135557174683, 0.6004999876022339]"
      ]
     },
     "execution_count": 15,
     "metadata": {},
     "output_type": "execute_result"
    }
   ],
   "source": [
    "model.evaluate(test_input, test_label_data)"
   ]
  },
  {
   "cell_type": "code",
   "execution_count": 16,
   "id": "8c35e86f",
   "metadata": {},
   "outputs": [],
   "source": [
    "ar_pred = model.predict(test_input)\n",
    "ar_pred = np.ravel(ar_pred, order='C')"
   ]
  },
  {
   "cell_type": "code",
   "execution_count": 17,
   "id": "d727c969",
   "metadata": {},
   "outputs": [
    {
     "data": {
      "text/html": [
       "<div>\n",
       "<style scoped>\n",
       "    .dataframe tbody tr th:only-of-type {\n",
       "        vertical-align: middle;\n",
       "    }\n",
       "\n",
       "    .dataframe tbody tr th {\n",
       "        vertical-align: top;\n",
       "    }\n",
       "\n",
       "    .dataframe thead th {\n",
       "        text-align: right;\n",
       "    }\n",
       "</style>\n",
       "<table border=\"1\" class=\"dataframe\">\n",
       "  <thead>\n",
       "    <tr style=\"text-align: right;\">\n",
       "      <th></th>\n",
       "      <th>text</th>\n",
       "      <th>label</th>\n",
       "      <th>predict</th>\n",
       "    </tr>\n",
       "  </thead>\n",
       "  <tbody>\n",
       "    <tr>\n",
       "      <th>478</th>\n",
       "      <td>\"왜 그렇게사니? 불쌍하다..\"</td>\n",
       "      <td>0</td>\n",
       "      <td>0.143483</td>\n",
       "    </tr>\n",
       "    <tr>\n",
       "      <th>479</th>\n",
       "      <td>\"어디서 이런게 또 굴러나오냐...\"</td>\n",
       "      <td>0</td>\n",
       "      <td>0.926773</td>\n",
       "    </tr>\n",
       "    <tr>\n",
       "      <th>480</th>\n",
       "      <td>\"이애는 머야?\"</td>\n",
       "      <td>0</td>\n",
       "      <td>0.096607</td>\n",
       "    </tr>\n",
       "    <tr>\n",
       "      <th>481</th>\n",
       "      <td>\"강성범이  서민교수 보다도 더 못생긴게 까불고 있네 홍어인거  티내느라고 그러냐 ...</td>\n",
       "      <td>0</td>\n",
       "      <td>0.925629</td>\n",
       "    </tr>\n",
       "    <tr>\n",
       "      <th>482</th>\n",
       "      <td>\"주디가 또 편가르네\"</td>\n",
       "      <td>0</td>\n",
       "      <td>0.647666</td>\n",
       "    </tr>\n",
       "    <tr>\n",
       "      <th>483</th>\n",
       "      <td>\"윤석열이되야 나라가 정상적으로 돌아옵니다! 정신제발 차리세요 강성범씨 쯔쯔쯔\"</td>\n",
       "      <td>0</td>\n",
       "      <td>0.759575</td>\n",
       "    </tr>\n",
       "    <tr>\n",
       "      <th>484</th>\n",
       "      <td>\"너나잘하셔요 이제는별게다 참\"</td>\n",
       "      <td>0</td>\n",
       "      <td>0.202103</td>\n",
       "    </tr>\n",
       "    <tr>\n",
       "      <th>485</th>\n",
       "      <td>\"대체 어떻게 미치면 사람이 이렇게 되는 걸까\"</td>\n",
       "      <td>0</td>\n",
       "      <td>0.479957</td>\n",
       "    </tr>\n",
       "    <tr>\n",
       "      <th>486</th>\n",
       "      <td>\"이 놈 개그나 하지   왠  갑자기 헛소리냐?  이죄명같은 범법자가  대통령되면 ...</td>\n",
       "      <td>0</td>\n",
       "      <td>0.431311</td>\n",
       "    </tr>\n",
       "    <tr>\n",
       "      <th>487</th>\n",
       "      <td>\"죄좀써결한몸\\n누워 x뱉기\\n안떵헤리ㄸㅁㅇ\"</td>\n",
       "      <td>0</td>\n",
       "      <td>0.743631</td>\n",
       "    </tr>\n",
       "    <tr>\n",
       "      <th>488</th>\n",
       "      <td>\"지역 비하나 하는 인간이 하는 말은 반대로 들으면 되겠군.. 솔직히 이런 인간은 ...</td>\n",
       "      <td>0</td>\n",
       "      <td>0.022918</td>\n",
       "    </tr>\n",
       "    <tr>\n",
       "      <th>489</th>\n",
       "      <td>\"ㅋㅋㅋ 나라가 박살나는 게 아니라 니가 밥줄 끊기것지...\"</td>\n",
       "      <td>0</td>\n",
       "      <td>0.014369</td>\n",
       "    </tr>\n",
       "    <tr>\n",
       "      <th>490</th>\n",
       "      <td>\"저사람은 어디 출생이지?\"</td>\n",
       "      <td>0</td>\n",
       "      <td>0.026437</td>\n",
       "    </tr>\n",
       "    <tr>\n",
       "      <th>491</th>\n",
       "      <td>\"문재인땜에 나라박살 날때 니들은 옹호하기만했지? 상주사드, 반도체소부장, 마스크 ...</td>\n",
       "      <td>0</td>\n",
       "      <td>0.009944</td>\n",
       "    </tr>\n",
       "    <tr>\n",
       "      <th>492</th>\n",
       "      <td>\"ㅋㅋㅋㅋㅋ\"</td>\n",
       "      <td>0</td>\n",
       "      <td>0.097148</td>\n",
       "    </tr>\n",
       "    <tr>\n",
       "      <th>493</th>\n",
       "      <td>\"니가? ㅎㅎ 뭣좀 알긴하냐?\"</td>\n",
       "      <td>0</td>\n",
       "      <td>0.099444</td>\n",
       "    </tr>\n",
       "    <tr>\n",
       "      <th>494</th>\n",
       "      <td>\"저사람이  미쳤구나!~\"</td>\n",
       "      <td>0</td>\n",
       "      <td>0.919479</td>\n",
       "    </tr>\n",
       "    <tr>\n",
       "      <th>495</th>\n",
       "      <td>\"지면 큰일난다? 지은 죄가 많은 놈들부터 큰일나겠지.. 그러게 평소에도 좀 착하게...</td>\n",
       "      <td>0</td>\n",
       "      <td>0.338783</td>\n",
       "    </tr>\n",
       "    <tr>\n",
       "      <th>496</th>\n",
       "      <td>\"늙어도 제발 곱게 늙어라.진짜 입이 보살인 양반이네.\\n다 당신 업보로 당신자식들...</td>\n",
       "      <td>0</td>\n",
       "      <td>0.014292</td>\n",
       "    </tr>\n",
       "    <tr>\n",
       "      <th>497</th>\n",
       "      <td>\"아그야 개그하냐 영암아리랑이나 불러라\\n뿌리가 거시깅께 어쩔수가 없구나 에라이\"</td>\n",
       "      <td>0</td>\n",
       "      <td>0.930412</td>\n",
       "    </tr>\n",
       "    <tr>\n",
       "      <th>498</th>\n",
       "      <td>\"집값 2배 3배 올린게 문재인 아니었남\"</td>\n",
       "      <td>0</td>\n",
       "      <td>0.003082</td>\n",
       "    </tr>\n",
       "    <tr>\n",
       "      <th>499</th>\n",
       "      <td>\"왜 이러냐\"</td>\n",
       "      <td>0</td>\n",
       "      <td>0.028254</td>\n",
       "    </tr>\n",
       "  </tbody>\n",
       "</table>\n",
       "</div>"
      ],
      "text/plain": [
       "                                                  text  label   predict\n",
       "478                                  \"왜 그렇게사니? 불쌍하다..\"      0  0.143483\n",
       "479                               \"어디서 이런게 또 굴러나오냐...\"      0  0.926773\n",
       "480                                          \"이애는 머야?\"      0  0.096607\n",
       "481  \"강성범이  서민교수 보다도 더 못생긴게 까불고 있네 홍어인거  티내느라고 그러냐 ...      0  0.925629\n",
       "482                                       \"주디가 또 편가르네\"      0  0.647666\n",
       "483       \"윤석열이되야 나라가 정상적으로 돌아옵니다! 정신제발 차리세요 강성범씨 쯔쯔쯔\"      0  0.759575\n",
       "484                                  \"너나잘하셔요 이제는별게다 참\"      0  0.202103\n",
       "485                         \"대체 어떻게 미치면 사람이 이렇게 되는 걸까\"      0  0.479957\n",
       "486  \"이 놈 개그나 하지   왠  갑자기 헛소리냐?  이죄명같은 범법자가  대통령되면 ...      0  0.431311\n",
       "487                          \"죄좀써결한몸\\n누워 x뱉기\\n안떵헤리ㄸㅁㅇ\"      0  0.743631\n",
       "488  \"지역 비하나 하는 인간이 하는 말은 반대로 들으면 되겠군.. 솔직히 이런 인간은 ...      0  0.022918\n",
       "489                 \"ㅋㅋㅋ 나라가 박살나는 게 아니라 니가 밥줄 끊기것지...\"      0  0.014369\n",
       "490                                    \"저사람은 어디 출생이지?\"      0  0.026437\n",
       "491  \"문재인땜에 나라박살 날때 니들은 옹호하기만했지? 상주사드, 반도체소부장, 마스크 ...      0  0.009944\n",
       "492                                            \"ㅋㅋㅋㅋㅋ\"      0  0.097148\n",
       "493                                  \"니가? ㅎㅎ 뭣좀 알긴하냐?\"      0  0.099444\n",
       "494                                     \"저사람이  미쳤구나!~\"      0  0.919479\n",
       "495  \"지면 큰일난다? 지은 죄가 많은 놈들부터 큰일나겠지.. 그러게 평소에도 좀 착하게...      0  0.338783\n",
       "496  \"늙어도 제발 곱게 늙어라.진짜 입이 보살인 양반이네.\\n다 당신 업보로 당신자식들...      0  0.014292\n",
       "497      \"아그야 개그하냐 영암아리랑이나 불러라\\n뿌리가 거시깅께 어쩔수가 없구나 에라이\"      0  0.930412\n",
       "498                            \"집값 2배 3배 올린게 문재인 아니었남\"      0  0.003082\n",
       "499                                            \"왜 이러냐\"      0  0.028254"
      ]
     },
     "execution_count": 17,
     "metadata": {},
     "output_type": "execute_result"
    }
   ],
   "source": [
    "test_data = pd.read_csv(DATA_IN_PATH+'test_data.csv', header = 0)\n",
    "pred_df = pd.DataFrame({'text':test_data['text'], 'label':test_data['label'], 'predict':ar_pred})\n",
    "pred_df[478:500]"
   ]
  },
  {
   "cell_type": "code",
   "execution_count": 18,
   "id": "ddce077f",
   "metadata": {},
   "outputs": [],
   "source": [
    "INPUT2_TEST_DATA = 'clova_test_input_38.npy'\n",
    "\n",
    "test_input2 = np.load(open(DATA_IN_PATH + INPUT2_TEST_DATA, 'rb'))\n",
    "test_input2 = pad_sequences(test_input2, maxlen=test_input.shape[1])"
   ]
  },
  {
   "cell_type": "code",
   "execution_count": 19,
   "id": "f332c2ed",
   "metadata": {},
   "outputs": [
    {
     "data": {
      "text/html": [
       "<div>\n",
       "<style scoped>\n",
       "    .dataframe tbody tr th:only-of-type {\n",
       "        vertical-align: middle;\n",
       "    }\n",
       "\n",
       "    .dataframe tbody tr th {\n",
       "        vertical-align: top;\n",
       "    }\n",
       "\n",
       "    .dataframe thead th {\n",
       "        text-align: right;\n",
       "    }\n",
       "</style>\n",
       "<table border=\"1\" class=\"dataframe\">\n",
       "  <thead>\n",
       "    <tr style=\"text-align: right;\">\n",
       "      <th></th>\n",
       "      <th>sentence</th>\n",
       "      <th>start</th>\n",
       "      <th>end</th>\n",
       "      <th>results</th>\n",
       "    </tr>\n",
       "  </thead>\n",
       "  <tbody>\n",
       "    <tr>\n",
       "      <th>0</th>\n",
       "      <td>이번 신제품 출시에 대한 시장의 반응은 어때. 미친 개 같아.</td>\n",
       "      <td>980</td>\n",
       "      <td>8590</td>\n",
       "      <td>0.937683</td>\n",
       "    </tr>\n",
       "    <tr>\n",
       "      <th>1</th>\n",
       "      <td>시장의 반응이 차가워. 아 그런 젓 같은 일이</td>\n",
       "      <td>9880</td>\n",
       "      <td>15740</td>\n",
       "      <td>0.961118</td>\n",
       "    </tr>\n",
       "    <tr>\n",
       "      <th>2</th>\n",
       "      <td>우린 이제 야근의 연속이겠다. 판매량이 지난번 제품보다는 좋다고는 하는데</td>\n",
       "      <td>17430</td>\n",
       "      <td>26290</td>\n",
       "      <td>0.043407</td>\n",
       "    </tr>\n",
       "    <tr>\n",
       "      <th>3</th>\n",
       "      <td>모르겠다. 뭐가 문제인 걸까. 우리가 엿 같이 한 탓이지.</td>\n",
       "      <td>26480</td>\n",
       "      <td>35740</td>\n",
       "      <td>0.645844</td>\n",
       "    </tr>\n",
       "    <tr>\n",
       "      <th>4</th>\n",
       "      <td>야 야 진정해. 다시 분석해 보자.</td>\n",
       "      <td>37180</td>\n",
       "      <td>40240</td>\n",
       "      <td>0.097138</td>\n",
       "    </tr>\n",
       "  </tbody>\n",
       "</table>\n",
       "</div>"
      ],
      "text/plain": [
       "                                   sentence  start    end   results\n",
       "0        이번 신제품 출시에 대한 시장의 반응은 어때. 미친 개 같아.    980   8590  0.937683\n",
       "1                 시장의 반응이 차가워. 아 그런 젓 같은 일이   9880  15740  0.961118\n",
       "2  우린 이제 야근의 연속이겠다. 판매량이 지난번 제품보다는 좋다고는 하는데  17430  26290  0.043407\n",
       "3          모르겠다. 뭐가 문제인 걸까. 우리가 엿 같이 한 탓이지.  26480  35740  0.645844\n",
       "4                       야 야 진정해. 다시 분석해 보자.  37180  40240  0.097138"
      ]
     },
     "execution_count": 19,
     "metadata": {},
     "output_type": "execute_result"
    }
   ],
   "source": [
    "results = model.predict(test_input2)\n",
    "return_data = pd.read_csv(DATA_IN_PATH + 'clova.csv', header=0)\n",
    "return_data['results'] = results\n",
    "return_data"
   ]
  },
  {
   "cell_type": "code",
   "execution_count": 20,
   "id": "2da09133",
   "metadata": {},
   "outputs": [],
   "source": [
    "return_data.to_csv('clova_result.csv', index=False)"
   ]
  },
  {
   "cell_type": "code",
   "execution_count": 21,
   "id": "d739955f",
   "metadata": {},
   "outputs": [
    {
     "name": "stdout",
     "output_type": "stream",
     "text": [
      "INFO:tensorflow:Assets written to: D:/PBL 스터디/PBL 실습/pbl_data_out/cnn_classifier_krmy_model.tf\\assets\n"
     ]
    }
   ],
   "source": [
    "model.save(DATA_OUT_PATH+model_name+'my_model.tf', save_format=\"tf\")"
   ]
  },
  {
   "cell_type": "code",
   "execution_count": 22,
   "id": "be8b50e5",
   "metadata": {},
   "outputs": [
    {
     "name": "stdout",
     "output_type": "stream",
     "text": [
      "Model: \"cnn_classifier_kr\"\n",
      "_________________________________________________________________\n",
      "Layer (type)                 Output Shape              Param #   \n",
      "=================================================================\n",
      "embedding (Embedding)        multiple                  738912    \n",
      "_________________________________________________________________\n",
      "conv1d (Conv1D)              multiple                  9700      \n",
      "_________________________________________________________________\n",
      "conv1d_1 (Conv1D)            multiple                  12900     \n",
      "_________________________________________________________________\n",
      "conv1d_2 (Conv1D)            multiple                  16100     \n",
      "_________________________________________________________________\n",
      "dense (Dense)                multiple                  75250     \n",
      "_________________________________________________________________\n",
      "dense_1 (Dense)              multiple                  62750     \n",
      "_________________________________________________________________\n",
      "global_max_pooling1d_2 (Glob multiple                  0         \n",
      "_________________________________________________________________\n",
      "dropout_2 (Dropout)          multiple                  0         \n",
      "_________________________________________________________________\n",
      "dense_2 (Dense)              multiple                  251       \n",
      "=================================================================\n",
      "Total params: 915,863\n",
      "Trainable params: 915,863\n",
      "Non-trainable params: 0\n",
      "_________________________________________________________________\n"
     ]
    }
   ],
   "source": [
    "model.summary()"
   ]
  }
 ],
 "metadata": {
  "kernelspec": {
   "display_name": "Python 3 (ipykernel)",
   "language": "python",
   "name": "python3"
  },
  "language_info": {
   "codemirror_mode": {
    "name": "ipython",
    "version": 3
   },
   "file_extension": ".py",
   "mimetype": "text/x-python",
   "name": "python",
   "nbconvert_exporter": "python",
   "pygments_lexer": "ipython3",
   "version": "3.7.11"
  }
 },
 "nbformat": 4,
 "nbformat_minor": 5
}
