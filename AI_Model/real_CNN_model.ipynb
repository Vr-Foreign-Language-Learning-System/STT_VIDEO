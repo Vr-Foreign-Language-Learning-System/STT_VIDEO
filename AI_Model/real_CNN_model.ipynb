{
 "cells": [
  {
   "cell_type": "code",
   "execution_count": 668,
   "id": "f3310ae2",
   "metadata": {},
   "outputs": [],
   "source": [
    "import tensorflow as tf\n",
    "from tensorflow.keras.preprocessing.sequence import pad_sequences\n",
    "from tensorflow.keras.callbacks import EarlyStopping, ModelCheckpoint\n",
    "from tensorflow.keras import layers\n",
    "\n",
    "import numpy as np\n",
    "import pandas as pd\n",
    "\n",
    "import matplotlib.pyplot as plt\n",
    "import os\n",
    "import json\n",
    "\n",
    "from tqdm import tqdm"
   ]
  },
  {
   "cell_type": "code",
   "execution_count": 669,
   "id": "27fd45c3",
   "metadata": {},
   "outputs": [],
   "source": [
    "# 시각화 함수\n",
    "def plot_graphs(history, string):\n",
    "    plt.plot(history.history[string])\n",
    "    plt.plot(history.history['val_'+string], '')\n",
    "    plt.xlabel(\"Epochs\")\n",
    "    plt.ylabel(string)\n",
    "    plt.legend([string, 'val_'+string])\n",
    "    plt.show()"
   ]
  },
  {
   "cell_type": "code",
   "execution_count": 670,
   "id": "ea9f9fc4",
   "metadata": {},
   "outputs": [],
   "source": [
    "# 경로 정의\n",
    "DATA_IN_PATH = 'D:/PBL 스터디/PBL 실습/pbl_data_in/'\n",
    "DATA_OUT_PATH = 'D:/PBL 스터디/PBL 실습/pbl_data_out/'\n",
    "INPUT_TRAIN_DATA = 'real_train_input_38.npy'\n",
    "LABEL_TRAIN_DATA = 'real_train_label_38.npy'\n",
    "DATA_CONFIGS = 'real_data_configs_38.json'\n",
    "\n",
    "# 랜덤 시드 고정\n",
    "SEED_NUM = 1234\n",
    "tf.random.set_seed(SEED_NUM)\n",
    "\n",
    "train_input = np.load(open(DATA_IN_PATH + INPUT_TRAIN_DATA, 'rb'))\n",
    "train_input = pad_sequences(train_input, maxlen=train_input.shape[1])\n",
    "train_label = np.load(open(DATA_IN_PATH + LABEL_TRAIN_DATA, 'rb'),allow_pickle = True)\n",
    "#prepro_configs = json.load(open(DATA_IN_PATH + DATA_CONFIGS, 'r'))\n",
    "prepro_configs = json.load(open(DATA_IN_PATH + DATA_CONFIGS, 'rt', encoding='UTF8'))"
   ]
  },
  {
   "cell_type": "code",
   "execution_count": 671,
   "id": "88fd408e",
   "metadata": {},
   "outputs": [],
   "source": [
    "# 모델 하이퍼파라미터 정의 \n",
    "model_name = 'cnn_classifier_kr'\n",
    "BATCH_SIZE = 512\n",
    "NUM_EPOCHS = 10 #10\n",
    "VALID_SPLIT = 0.1 #0.1\n",
    "MAX_LEN = train_input.shape[1]\n",
    "\n",
    "kargs = {'model_name': model_name,\n",
    "        'vocab_size': prepro_configs['vocab_size'],\n",
    "        'embedding_size': 32,\n",
    "        'num_filters': 100, #100\n",
    "        'dropout_rate': 0.5,\n",
    "        'hidden_dimension': 250,\n",
    "        'output_dimension':1}"
   ]
  },
  {
   "cell_type": "code",
   "execution_count": 672,
   "id": "bd961dc3",
   "metadata": {},
   "outputs": [
    {
     "data": {
      "text/plain": [
       "23091"
      ]
     },
     "execution_count": 672,
     "metadata": {},
     "output_type": "execute_result"
    }
   ],
   "source": [
    "prepro_configs['vocab_size']"
   ]
  },
  {
   "cell_type": "code",
   "execution_count": 673,
   "id": "e23b3ba7",
   "metadata": {},
   "outputs": [],
   "source": [
    "# 모델 선언 및 컴파일 \n",
    "class CNNClassifier(tf.keras.Model):\n",
    "    \n",
    "    def __init__(self, **kargs):\n",
    "        super(CNNClassifier, self).__init__(name=kargs['model_name'])\n",
    "        self.embedding = layers.Embedding(input_dim=kargs['vocab_size'],\n",
    "                                     output_dim=kargs['embedding_size'])\n",
    "        self.conv_list = [layers.Conv1D(filters=kargs['num_filters'],\n",
    "                                   kernel_size=kernel_size,\n",
    "                                   padding='valid',\n",
    "                                   activation=tf.keras.activations.relu,\n",
    "                                   kernel_constraint=tf.keras.constraints.MaxNorm(max_value=3.))\n",
    "                     for kernel_size in [3,4,5]]\n",
    "        self.pooling = layers.GlobalMaxPooling1D()\n",
    "        self.dropout = layers.Dropout(kargs['dropout_rate'])\n",
    "        self.fc1 = layers.Dense(units=kargs['hidden_dimension'],\n",
    "                           activation=tf.keras.activations.relu,\n",
    "                           kernel_constraint=tf.keras.constraints.MaxNorm(max_value=3.))\n",
    "        self.pooling = layers.GlobalMaxPooling1D()\n",
    "        self.dropout = layers.Dropout(kargs['dropout_rate'])\n",
    "        self.fc2 = layers.Dense(units=kargs['hidden_dimension'],\n",
    "                           activation=tf.keras.activations.relu,\n",
    "                           kernel_constraint=tf.keras.constraints.MaxNorm(max_value=3.))\n",
    "#         self.pooling = layers.GlobalMaxPooling1D()\n",
    "#         self.dropout = layers.Dropout(kargs['dropout_rate'])\n",
    "#         self.fc4 = layers.Dense(units=kargs['hidden_dimension'],\n",
    "#                            activation=tf.keras.activations.relu,\n",
    "#                            kernel_constraint=tf.keras.constraints.MaxNorm(max_value=3.))\n",
    "        self.pooling = layers.GlobalMaxPooling1D()\n",
    "        self.dropout = layers.Dropout(kargs['dropout_rate'])\n",
    "        self.fc3 = layers.Dense(units=kargs['output_dimension'],\n",
    "                           activation=tf.keras.activations.sigmoid,\n",
    "                           kernel_constraint=tf.keras.constraints.MaxNorm(max_value=3.))\n",
    "    \n",
    "    def call(self, x):\n",
    "        x = self.embedding(x)\n",
    "        x = self.dropout(x)\n",
    "        x = tf.concat([self.pooling(conv(x)) for conv in self.conv_list], axis=-1)\n",
    "        x = self.fc1(x)\n",
    "        x = self.dropout(x)\n",
    "        x = self.fc2(x)\n",
    "#         x = self.dropout(x)\n",
    "#         x = self.fc4(x)\n",
    "        x = self.dropout(x)\n",
    "        x = self.fc3(x)\n",
    "        \n",
    "        return x"
   ]
  },
  {
   "cell_type": "code",
   "execution_count": 674,
   "id": "8fe8fa86",
   "metadata": {},
   "outputs": [],
   "source": [
    "model = CNNClassifier(**kargs)\n",
    "\n",
    "model.compile(optimizer=tf.keras.optimizers.Adam(),\n",
    "              loss=tf.keras.losses.BinaryCrossentropy(),\n",
    "              metrics=[tf.keras.metrics.BinaryAccuracy(name='accuracy')])"
   ]
  },
  {
   "cell_type": "code",
   "execution_count": 675,
   "id": "eb94f77d",
   "metadata": {},
   "outputs": [
    {
     "name": "stdout",
     "output_type": "stream",
     "text": [
      "D:/PBL 스터디/PBL 실습/pbl_data_out/cnn_classifier_kr -- Folder already exists \n",
      "\n"
     ]
    }
   ],
   "source": [
    "# overfitting을 막기 위한 ealrystop 추가\n",
    "earlystop_callback = EarlyStopping(monitor='val_accuracy', min_delta=0.0001,patience=2)\n",
    "checkpoint_path = DATA_OUT_PATH + model_name + '/weights.h5'\n",
    "checkpoint_dir = os.path.dirname(checkpoint_path)\n",
    "\n",
    "if os.path.exists(checkpoint_dir):\n",
    "    print(\"{} -- Folder already exists \\n\".format(checkpoint_dir))\n",
    "else:\n",
    "    os.makedirs(checkpoint_dir, exist_ok=True)\n",
    "    print(\"{} -- Folder create complete \\n\".format(checkpoint_dir))\n",
    "    \n",
    "\n",
    "cp_callback = ModelCheckpoint(\n",
    "    checkpoint_path, monitor='val_accuracy', verbose=1, save_best_only=True, save_weights_only=True)"
   ]
  },
  {
   "cell_type": "code",
   "execution_count": 676,
   "id": "d6c3aa82",
   "metadata": {},
   "outputs": [
    {
     "name": "stdout",
     "output_type": "stream",
     "text": [
      "Epoch 1/10\n",
      "36/36 [==============================] - 3s 71ms/step - loss: 0.6871 - accuracy: 0.5574 - val_loss: 0.7259 - val_accuracy: 0.0940\n",
      "\n",
      "Epoch 00001: val_accuracy improved from -inf to 0.09400, saving model to D:/PBL 스터디/PBL 실습/pbl_data_out/cnn_classifier_kr\\weights.h5\n",
      "Epoch 2/10\n",
      "36/36 [==============================] - 2s 65ms/step - loss: 0.6523 - accuracy: 0.6258 - val_loss: 0.5077 - val_accuracy: 0.7125\n",
      "\n",
      "Epoch 00002: val_accuracy improved from 0.09400 to 0.71250, saving model to D:/PBL 스터디/PBL 실습/pbl_data_out/cnn_classifier_kr\\weights.h5\n",
      "Epoch 3/10\n",
      "36/36 [==============================] - 2s 66ms/step - loss: 0.4352 - accuracy: 0.8013 - val_loss: 0.6684 - val_accuracy: 0.6930\n",
      "\n",
      "Epoch 00003: val_accuracy did not improve from 0.71250\n",
      "Epoch 4/10\n",
      "36/36 [==============================] - 2s 67ms/step - loss: 0.3103 - accuracy: 0.8709 - val_loss: 0.6633 - val_accuracy: 0.7575\n",
      "\n",
      "Epoch 00004: val_accuracy improved from 0.71250 to 0.75750, saving model to D:/PBL 스터디/PBL 실습/pbl_data_out/cnn_classifier_kr\\weights.h5\n",
      "Epoch 5/10\n",
      "36/36 [==============================] - 2s 66ms/step - loss: 0.2381 - accuracy: 0.9109 - val_loss: 0.7410 - val_accuracy: 0.7685\n",
      "\n",
      "Epoch 00005: val_accuracy improved from 0.75750 to 0.76850, saving model to D:/PBL 스터디/PBL 실습/pbl_data_out/cnn_classifier_kr\\weights.h5\n",
      "Epoch 6/10\n",
      "36/36 [==============================] - 3s 69ms/step - loss: 0.1829 - accuracy: 0.9328 - val_loss: 0.7065 - val_accuracy: 0.7885\n",
      "\n",
      "Epoch 00006: val_accuracy improved from 0.76850 to 0.78850, saving model to D:/PBL 스터디/PBL 실습/pbl_data_out/cnn_classifier_kr\\weights.h5\n",
      "Epoch 7/10\n",
      "36/36 [==============================] - 2s 67ms/step - loss: 0.1528 - accuracy: 0.9457 - val_loss: 0.7853 - val_accuracy: 0.7855\n",
      "\n",
      "Epoch 00007: val_accuracy did not improve from 0.78850\n",
      "Epoch 8/10\n",
      "36/36 [==============================] - 2s 67ms/step - loss: 0.1231 - accuracy: 0.9569 - val_loss: 0.8371 - val_accuracy: 0.7875\n",
      "\n",
      "Epoch 00008: val_accuracy did not improve from 0.78850\n"
     ]
    }
   ],
   "source": [
    "history = model.fit(train_input, train_label, batch_size=BATCH_SIZE, epochs=NUM_EPOCHS,\n",
    "                    validation_split=VALID_SPLIT, callbacks=[earlystop_callback, cp_callback])"
   ]
  },
  {
   "cell_type": "code",
   "execution_count": 677,
   "id": "634fbdf2",
   "metadata": {
    "scrolled": true
   },
   "outputs": [
    {
     "data": {
      "image/png": "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\n",
      "text/plain": [
       "<Figure size 432x288 with 1 Axes>"
      ]
     },
     "metadata": {
      "needs_background": "light"
     },
     "output_type": "display_data"
    }
   ],
   "source": [
    "# 결과 플롯\n",
    "plot_graphs(history, 'loss')"
   ]
  },
  {
   "cell_type": "code",
   "execution_count": 678,
   "id": "8a17a2d6",
   "metadata": {},
   "outputs": [
    {
     "data": {
      "image/png": "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\n",
      "text/plain": [
       "<Figure size 432x288 with 1 Axes>"
      ]
     },
     "metadata": {
      "needs_background": "light"
     },
     "output_type": "display_data"
    }
   ],
   "source": [
    "plot_graphs(history, 'accuracy')"
   ]
  },
  {
   "cell_type": "code",
   "execution_count": 679,
   "id": "3fbae27b",
   "metadata": {},
   "outputs": [],
   "source": [
    "# 결과 평가하기 \n",
    "DATA_IN_PATH = 'D:/PBL 스터디/PBL 실습/pbl_data_in/'\n",
    "DATA_OUT_PATH = 'D:/PBL 스터디/PBL 실습/pbl_data_out/'\n",
    "INPUT_TEST_DATA = 'real_test_input_38.npy'\n",
    "LABEL_TEST_DATA = 'real_test_label_38.npy'\n",
    "SAVE_FILE_NM = 'weights.h5' #저장된 best model 이름\n",
    "\n",
    "test_input = np.load(open(DATA_IN_PATH + INPUT_TEST_DATA, 'rb'))\n",
    "test_input = pad_sequences(test_input, maxlen=test_input.shape[1])\n",
    "test_label_data = np.load(open(DATA_IN_PATH + LABEL_TEST_DATA, 'rb'))"
   ]
  },
  {
   "cell_type": "code",
   "execution_count": 680,
   "id": "aab76fc0",
   "metadata": {},
   "outputs": [],
   "source": [
    "model.load_weights(os.path.join(DATA_OUT_PATH, model_name, SAVE_FILE_NM))"
   ]
  },
  {
   "cell_type": "code",
   "execution_count": 681,
   "id": "87594274",
   "metadata": {},
   "outputs": [
    {
     "name": "stdout",
     "output_type": "stream",
     "text": [
      "63/63 [==============================] - 0s 2ms/step - loss: 1.2383 - accuracy: 0.6005\n"
     ]
    },
    {
     "data": {
      "text/plain": [
       "[1.2383135557174683, 0.6004999876022339]"
      ]
     },
     "execution_count": 681,
     "metadata": {},
     "output_type": "execute_result"
    }
   ],
   "source": [
    "model.evaluate(test_input, test_label_data)"
   ]
  },
  {
   "cell_type": "code",
   "execution_count": null,
   "id": "cf776815",
   "metadata": {},
   "outputs": [],
   "source": []
  },
  {
   "cell_type": "code",
   "execution_count": 682,
   "id": "8c35e86f",
   "metadata": {},
   "outputs": [],
   "source": [
    "ar_pred = model.predict(test_input)\n",
    "ar_pred = np.ravel(ar_pred, order='C')"
   ]
  },
  {
   "cell_type": "code",
   "execution_count": 687,
   "id": "d727c969",
   "metadata": {},
   "outputs": [
    {
     "data": {
      "text/html": [
       "<div>\n",
       "<style scoped>\n",
       "    .dataframe tbody tr th:only-of-type {\n",
       "        vertical-align: middle;\n",
       "    }\n",
       "\n",
       "    .dataframe tbody tr th {\n",
       "        vertical-align: top;\n",
       "    }\n",
       "\n",
       "    .dataframe thead th {\n",
       "        text-align: right;\n",
       "    }\n",
       "</style>\n",
       "<table border=\"1\" class=\"dataframe\">\n",
       "  <thead>\n",
       "    <tr style=\"text-align: right;\">\n",
       "      <th></th>\n",
       "      <th>text</th>\n",
       "      <th>label</th>\n",
       "      <th>predict</th>\n",
       "    </tr>\n",
       "  </thead>\n",
       "  <tbody>\n",
       "    <tr>\n",
       "      <th>478</th>\n",
       "      <td>\"왜 그렇게사니? 불쌍하다..\"</td>\n",
       "      <td>0</td>\n",
       "      <td>0.143483</td>\n",
       "    </tr>\n",
       "    <tr>\n",
       "      <th>479</th>\n",
       "      <td>\"어디서 이런게 또 굴러나오냐...\"</td>\n",
       "      <td>0</td>\n",
       "      <td>0.926773</td>\n",
       "    </tr>\n",
       "    <tr>\n",
       "      <th>480</th>\n",
       "      <td>\"이애는 머야?\"</td>\n",
       "      <td>0</td>\n",
       "      <td>0.096607</td>\n",
       "    </tr>\n",
       "    <tr>\n",
       "      <th>481</th>\n",
       "      <td>\"강성범이  서민교수 보다도 더 못생긴게 까불고 있네 홍어인거  티내느라고 그러냐 ...</td>\n",
       "      <td>0</td>\n",
       "      <td>0.925629</td>\n",
       "    </tr>\n",
       "    <tr>\n",
       "      <th>482</th>\n",
       "      <td>\"주디가 또 편가르네\"</td>\n",
       "      <td>0</td>\n",
       "      <td>0.647666</td>\n",
       "    </tr>\n",
       "    <tr>\n",
       "      <th>483</th>\n",
       "      <td>\"윤석열이되야 나라가 정상적으로 돌아옵니다! 정신제발 차리세요 강성범씨 쯔쯔쯔\"</td>\n",
       "      <td>0</td>\n",
       "      <td>0.759575</td>\n",
       "    </tr>\n",
       "    <tr>\n",
       "      <th>484</th>\n",
       "      <td>\"너나잘하셔요 이제는별게다 참\"</td>\n",
       "      <td>0</td>\n",
       "      <td>0.202103</td>\n",
       "    </tr>\n",
       "    <tr>\n",
       "      <th>485</th>\n",
       "      <td>\"대체 어떻게 미치면 사람이 이렇게 되는 걸까\"</td>\n",
       "      <td>0</td>\n",
       "      <td>0.479957</td>\n",
       "    </tr>\n",
       "    <tr>\n",
       "      <th>486</th>\n",
       "      <td>\"이 놈 개그나 하지   왠  갑자기 헛소리냐?  이죄명같은 범법자가  대통령되면 ...</td>\n",
       "      <td>0</td>\n",
       "      <td>0.431311</td>\n",
       "    </tr>\n",
       "    <tr>\n",
       "      <th>487</th>\n",
       "      <td>\"죄좀써결한몸\\n누워 x뱉기\\n안떵헤리ㄸㅁㅇ\"</td>\n",
       "      <td>0</td>\n",
       "      <td>0.743631</td>\n",
       "    </tr>\n",
       "    <tr>\n",
       "      <th>488</th>\n",
       "      <td>\"지역 비하나 하는 인간이 하는 말은 반대로 들으면 되겠군.. 솔직히 이런 인간은 ...</td>\n",
       "      <td>0</td>\n",
       "      <td>0.022918</td>\n",
       "    </tr>\n",
       "    <tr>\n",
       "      <th>489</th>\n",
       "      <td>\"ㅋㅋㅋ 나라가 박살나는 게 아니라 니가 밥줄 끊기것지...\"</td>\n",
       "      <td>0</td>\n",
       "      <td>0.014369</td>\n",
       "    </tr>\n",
       "    <tr>\n",
       "      <th>490</th>\n",
       "      <td>\"저사람은 어디 출생이지?\"</td>\n",
       "      <td>0</td>\n",
       "      <td>0.026437</td>\n",
       "    </tr>\n",
       "    <tr>\n",
       "      <th>491</th>\n",
       "      <td>\"문재인땜에 나라박살 날때 니들은 옹호하기만했지? 상주사드, 반도체소부장, 마스크 ...</td>\n",
       "      <td>0</td>\n",
       "      <td>0.009944</td>\n",
       "    </tr>\n",
       "    <tr>\n",
       "      <th>492</th>\n",
       "      <td>\"ㅋㅋㅋㅋㅋ\"</td>\n",
       "      <td>0</td>\n",
       "      <td>0.097148</td>\n",
       "    </tr>\n",
       "    <tr>\n",
       "      <th>493</th>\n",
       "      <td>\"니가? ㅎㅎ 뭣좀 알긴하냐?\"</td>\n",
       "      <td>0</td>\n",
       "      <td>0.099444</td>\n",
       "    </tr>\n",
       "    <tr>\n",
       "      <th>494</th>\n",
       "      <td>\"저사람이  미쳤구나!~\"</td>\n",
       "      <td>0</td>\n",
       "      <td>0.919479</td>\n",
       "    </tr>\n",
       "    <tr>\n",
       "      <th>495</th>\n",
       "      <td>\"지면 큰일난다? 지은 죄가 많은 놈들부터 큰일나겠지.. 그러게 평소에도 좀 착하게...</td>\n",
       "      <td>0</td>\n",
       "      <td>0.338783</td>\n",
       "    </tr>\n",
       "    <tr>\n",
       "      <th>496</th>\n",
       "      <td>\"늙어도 제발 곱게 늙어라.진짜 입이 보살인 양반이네.\\n다 당신 업보로 당신자식들...</td>\n",
       "      <td>0</td>\n",
       "      <td>0.014292</td>\n",
       "    </tr>\n",
       "    <tr>\n",
       "      <th>497</th>\n",
       "      <td>\"아그야 개그하냐 영암아리랑이나 불러라\\n뿌리가 거시깅께 어쩔수가 없구나 에라이\"</td>\n",
       "      <td>0</td>\n",
       "      <td>0.930412</td>\n",
       "    </tr>\n",
       "    <tr>\n",
       "      <th>498</th>\n",
       "      <td>\"집값 2배 3배 올린게 문재인 아니었남\"</td>\n",
       "      <td>0</td>\n",
       "      <td>0.003082</td>\n",
       "    </tr>\n",
       "    <tr>\n",
       "      <th>499</th>\n",
       "      <td>\"왜 이러냐\"</td>\n",
       "      <td>0</td>\n",
       "      <td>0.028254</td>\n",
       "    </tr>\n",
       "  </tbody>\n",
       "</table>\n",
       "</div>"
      ],
      "text/plain": [
       "                                                  text  label   predict\n",
       "478                                  \"왜 그렇게사니? 불쌍하다..\"      0  0.143483\n",
       "479                               \"어디서 이런게 또 굴러나오냐...\"      0  0.926773\n",
       "480                                          \"이애는 머야?\"      0  0.096607\n",
       "481  \"강성범이  서민교수 보다도 더 못생긴게 까불고 있네 홍어인거  티내느라고 그러냐 ...      0  0.925629\n",
       "482                                       \"주디가 또 편가르네\"      0  0.647666\n",
       "483       \"윤석열이되야 나라가 정상적으로 돌아옵니다! 정신제발 차리세요 강성범씨 쯔쯔쯔\"      0  0.759575\n",
       "484                                  \"너나잘하셔요 이제는별게다 참\"      0  0.202103\n",
       "485                         \"대체 어떻게 미치면 사람이 이렇게 되는 걸까\"      0  0.479957\n",
       "486  \"이 놈 개그나 하지   왠  갑자기 헛소리냐?  이죄명같은 범법자가  대통령되면 ...      0  0.431311\n",
       "487                          \"죄좀써결한몸\\n누워 x뱉기\\n안떵헤리ㄸㅁㅇ\"      0  0.743631\n",
       "488  \"지역 비하나 하는 인간이 하는 말은 반대로 들으면 되겠군.. 솔직히 이런 인간은 ...      0  0.022918\n",
       "489                 \"ㅋㅋㅋ 나라가 박살나는 게 아니라 니가 밥줄 끊기것지...\"      0  0.014369\n",
       "490                                    \"저사람은 어디 출생이지?\"      0  0.026437\n",
       "491  \"문재인땜에 나라박살 날때 니들은 옹호하기만했지? 상주사드, 반도체소부장, 마스크 ...      0  0.009944\n",
       "492                                            \"ㅋㅋㅋㅋㅋ\"      0  0.097148\n",
       "493                                  \"니가? ㅎㅎ 뭣좀 알긴하냐?\"      0  0.099444\n",
       "494                                     \"저사람이  미쳤구나!~\"      0  0.919479\n",
       "495  \"지면 큰일난다? 지은 죄가 많은 놈들부터 큰일나겠지.. 그러게 평소에도 좀 착하게...      0  0.338783\n",
       "496  \"늙어도 제발 곱게 늙어라.진짜 입이 보살인 양반이네.\\n다 당신 업보로 당신자식들...      0  0.014292\n",
       "497      \"아그야 개그하냐 영암아리랑이나 불러라\\n뿌리가 거시깅께 어쩔수가 없구나 에라이\"      0  0.930412\n",
       "498                            \"집값 2배 3배 올린게 문재인 아니었남\"      0  0.003082\n",
       "499                                            \"왜 이러냐\"      0  0.028254"
      ]
     },
     "execution_count": 687,
     "metadata": {},
     "output_type": "execute_result"
    }
   ],
   "source": [
    "test_data = pd.read_csv(DATA_IN_PATH+'test_data.csv', header = 0)\n",
    "pred_df = pd.DataFrame({'text':test_data['text'], 'label':test_data['label'], 'predict':ar_pred})\n",
    "pred_df[478:500]"
   ]
  },
  {
   "cell_type": "code",
   "execution_count": 684,
   "id": "ddce077f",
   "metadata": {},
   "outputs": [],
   "source": [
    "INPUT2_TEST_DATA = 'clova_test_input_38.npy'\n",
    "\n",
    "test_input2 = np.load(open(DATA_IN_PATH + INPUT2_TEST_DATA, 'rb'))\n",
    "test_input2 = pad_sequences(test_input2, maxlen=test_input.shape[1])"
   ]
  },
  {
   "cell_type": "code",
   "execution_count": 685,
   "id": "f332c2ed",
   "metadata": {},
   "outputs": [
    {
     "data": {
      "text/html": [
       "<div>\n",
       "<style scoped>\n",
       "    .dataframe tbody tr th:only-of-type {\n",
       "        vertical-align: middle;\n",
       "    }\n",
       "\n",
       "    .dataframe tbody tr th {\n",
       "        vertical-align: top;\n",
       "    }\n",
       "\n",
       "    .dataframe thead th {\n",
       "        text-align: right;\n",
       "    }\n",
       "</style>\n",
       "<table border=\"1\" class=\"dataframe\">\n",
       "  <thead>\n",
       "    <tr style=\"text-align: right;\">\n",
       "      <th></th>\n",
       "      <th>sentence</th>\n",
       "      <th>start</th>\n",
       "      <th>end</th>\n",
       "      <th>results</th>\n",
       "    </tr>\n",
       "  </thead>\n",
       "  <tbody>\n",
       "    <tr>\n",
       "      <th>0</th>\n",
       "      <td>이번 신제품 출시에 대한 시장의 반응은 어때. 미친 개 같아.</td>\n",
       "      <td>980</td>\n",
       "      <td>8590</td>\n",
       "      <td>0.937683</td>\n",
       "    </tr>\n",
       "    <tr>\n",
       "      <th>1</th>\n",
       "      <td>시장의 반응이 차가워. 아 그런 젓 같은 일이</td>\n",
       "      <td>9880</td>\n",
       "      <td>15740</td>\n",
       "      <td>0.961118</td>\n",
       "    </tr>\n",
       "    <tr>\n",
       "      <th>2</th>\n",
       "      <td>우린 이제 야근의 연속이겠다. 판매량이 지난번 제품보다는 좋다고는 하는데</td>\n",
       "      <td>17430</td>\n",
       "      <td>26290</td>\n",
       "      <td>0.043407</td>\n",
       "    </tr>\n",
       "    <tr>\n",
       "      <th>3</th>\n",
       "      <td>모르겠다. 뭐가 문제인 걸까. 우리가 엿 같이 한 탓이지.</td>\n",
       "      <td>26480</td>\n",
       "      <td>35740</td>\n",
       "      <td>0.645844</td>\n",
       "    </tr>\n",
       "    <tr>\n",
       "      <th>4</th>\n",
       "      <td>야 야 진정해. 다시 분석해 보자.</td>\n",
       "      <td>37180</td>\n",
       "      <td>40240</td>\n",
       "      <td>0.097138</td>\n",
       "    </tr>\n",
       "  </tbody>\n",
       "</table>\n",
       "</div>"
      ],
      "text/plain": [
       "                                   sentence  start    end   results\n",
       "0        이번 신제품 출시에 대한 시장의 반응은 어때. 미친 개 같아.    980   8590  0.937683\n",
       "1                 시장의 반응이 차가워. 아 그런 젓 같은 일이   9880  15740  0.961118\n",
       "2  우린 이제 야근의 연속이겠다. 판매량이 지난번 제품보다는 좋다고는 하는데  17430  26290  0.043407\n",
       "3          모르겠다. 뭐가 문제인 걸까. 우리가 엿 같이 한 탓이지.  26480  35740  0.645844\n",
       "4                       야 야 진정해. 다시 분석해 보자.  37180  40240  0.097138"
      ]
     },
     "execution_count": 685,
     "metadata": {},
     "output_type": "execute_result"
    }
   ],
   "source": [
    "results = model.predict(test_input2)\n",
    "return_data = pd.read_csv(DATA_IN_PATH + 'clova.csv', header=0)\n",
    "return_data['results'] = results\n",
    "return_data"
   ]
  },
  {
   "cell_type": "code",
   "execution_count": 686,
   "id": "2da09133",
   "metadata": {},
   "outputs": [],
   "source": [
    "return_data.to_csv('clova_result.csv', index=False)",
    "model.save(DATA_OUT_PATH+model_name+'my_model.tf', save_format="tf")"
   ]
  }
 ],
 "metadata": {
  "kernelspec": {
   "display_name": "Python 3 (ipykernel)",
   "language": "python",
   "name": "python3"
  },
  "language_info": {
   "codemirror_mode": {
    "name": "ipython",
    "version": 3
   },
   "file_extension": ".py",
   "mimetype": "text/x-python",
   "name": "python",
   "nbconvert_exporter": "python",
   "pygments_lexer": "ipython3",
   "version": "3.7.11"
  }
 },
 "nbformat": 4,
 "nbformat_minor": 5
}
