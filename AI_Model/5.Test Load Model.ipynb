{
 "cells": [
  {
   "cell_type": "code",
   "execution_count": 1,
   "id": "c007de34",
   "metadata": {},
   "outputs": [],
   "source": [
    "import tensorflow as tf\n",
    "from tensorflow.keras.preprocessing.sequence import pad_sequences\n",
    "\n",
    "import numpy as np\n",
    "import pandas as pd\n",
    "\n",
    "import tensorflow.python.keras.engine"
   ]
  },
  {
   "cell_type": "code",
   "execution_count": 2,
   "id": "2746c2ab",
   "metadata": {},
   "outputs": [
    {
     "name": "stdout",
     "output_type": "stream",
     "text": [
      "Model: \"cnn_classifier_kr\"\n",
      "_________________________________________________________________\n",
      "Layer (type)                 Output Shape              Param #   \n",
      "=================================================================\n",
      "embedding (Embedding)        multiple                  738912    \n",
      "_________________________________________________________________\n",
      "conv1d (Conv1D)              multiple                  9700      \n",
      "_________________________________________________________________\n",
      "conv1d_1 (Conv1D)            multiple                  12900     \n",
      "_________________________________________________________________\n",
      "conv1d_2 (Conv1D)            multiple                  16100     \n",
      "_________________________________________________________________\n",
      "global_max_pooling1d_2 (Glob multiple                  0         \n",
      "_________________________________________________________________\n",
      "dropout_2 (Dropout)          multiple                  0         \n",
      "_________________________________________________________________\n",
      "dense (Dense)                multiple                  75250     \n",
      "_________________________________________________________________\n",
      "dense_1 (Dense)              multiple                  62750     \n",
      "_________________________________________________________________\n",
      "dense_2 (Dense)              multiple                  251       \n",
      "=================================================================\n",
      "Total params: 915,863\n",
      "Trainable params: 915,863\n",
      "Non-trainable params: 0\n",
      "_________________________________________________________________\n"
     ]
    }
   ],
   "source": [
    "new = tf.keras.models.load_model('D:/PBL 스터디/PBL 실습/pbl_data_out/cnn_classifier_krmy_model.tf')\n",
    "new.summary()"
   ]
  },
  {
   "cell_type": "code",
   "execution_count": 5,
   "id": "0b70f0a3",
   "metadata": {},
   "outputs": [
    {
     "data": {
      "text/html": [
       "<div>\n",
       "<style scoped>\n",
       "    .dataframe tbody tr th:only-of-type {\n",
       "        vertical-align: middle;\n",
       "    }\n",
       "\n",
       "    .dataframe tbody tr th {\n",
       "        vertical-align: top;\n",
       "    }\n",
       "\n",
       "    .dataframe thead th {\n",
       "        text-align: right;\n",
       "    }\n",
       "</style>\n",
       "<table border=\"1\" class=\"dataframe\">\n",
       "  <thead>\n",
       "    <tr style=\"text-align: right;\">\n",
       "      <th></th>\n",
       "      <th>sentence</th>\n",
       "      <th>start</th>\n",
       "      <th>end</th>\n",
       "      <th>predict</th>\n",
       "    </tr>\n",
       "  </thead>\n",
       "  <tbody>\n",
       "    <tr>\n",
       "      <th>0</th>\n",
       "      <td>이번 신제품 출시에 대한 시장의 반응은 어때. 미친 개 같아.</td>\n",
       "      <td>980</td>\n",
       "      <td>8590</td>\n",
       "      <td>0.937683</td>\n",
       "    </tr>\n",
       "    <tr>\n",
       "      <th>1</th>\n",
       "      <td>시장의 반응이 차가워. 아 그런 젓 같은 일이</td>\n",
       "      <td>9880</td>\n",
       "      <td>15740</td>\n",
       "      <td>0.961118</td>\n",
       "    </tr>\n",
       "    <tr>\n",
       "      <th>2</th>\n",
       "      <td>우린 이제 야근의 연속이겠다. 판매량이 지난번 제품보다는 좋다고는 하는데</td>\n",
       "      <td>17430</td>\n",
       "      <td>26290</td>\n",
       "      <td>0.043407</td>\n",
       "    </tr>\n",
       "    <tr>\n",
       "      <th>3</th>\n",
       "      <td>모르겠다. 뭐가 문제인 걸까. 우리가 엿 같이 한 탓이지.</td>\n",
       "      <td>26480</td>\n",
       "      <td>35740</td>\n",
       "      <td>0.645844</td>\n",
       "    </tr>\n",
       "    <tr>\n",
       "      <th>4</th>\n",
       "      <td>야 야 진정해. 다시 분석해 보자.</td>\n",
       "      <td>37180</td>\n",
       "      <td>40240</td>\n",
       "      <td>0.097138</td>\n",
       "    </tr>\n",
       "  </tbody>\n",
       "</table>\n",
       "</div>"
      ],
      "text/plain": [
       "                                   sentence  start    end   predict\n",
       "0        이번 신제품 출시에 대한 시장의 반응은 어때. 미친 개 같아.    980   8590  0.937683\n",
       "1                 시장의 반응이 차가워. 아 그런 젓 같은 일이   9880  15740  0.961118\n",
       "2  우린 이제 야근의 연속이겠다. 판매량이 지난번 제품보다는 좋다고는 하는데  17430  26290  0.043407\n",
       "3          모르겠다. 뭐가 문제인 걸까. 우리가 엿 같이 한 탓이지.  26480  35740  0.645844\n",
       "4                       야 야 진정해. 다시 분석해 보자.  37180  40240  0.097138"
      ]
     },
     "execution_count": 5,
     "metadata": {},
     "output_type": "execute_result"
    }
   ],
   "source": [
    "DATA_IN_PATH = 'D:/PBL 스터디/PBL 실습/pbl_data_in/'\n",
    "stt_test_input = np.load(open(DATA_IN_PATH + 'clova_test_input_38.npy', 'rb'))\n",
    "stt_test_input = pad_sequences(stt_test_input, maxlen=stt_test_input.shape[1])\n",
    "\n",
    "predict = new.predict(stt_test_input)\n",
    "return_data = pd.read_csv(DATA_IN_PATH+'clova.csv')\n",
    "return_data['predict'] = predict\n",
    "return_data"
   ]
  },
  {
   "cell_type": "code",
   "execution_count": null,
   "id": "7c2000a5",
   "metadata": {},
   "outputs": [],
   "source": []
  },
  {
   "cell_type": "code",
   "execution_count": null,
   "id": "9b63d336",
   "metadata": {},
   "outputs": [],
   "source": []
  }
 ],
 "metadata": {
  "kernelspec": {
   "display_name": "Python 3 (ipykernel)",
   "language": "python",
   "name": "python3"
  },
  "language_info": {
   "codemirror_mode": {
    "name": "ipython",
    "version": 3
   },
   "file_extension": ".py",
   "mimetype": "text/x-python",
   "name": "python",
   "nbconvert_exporter": "python",
   "pygments_lexer": "ipython3",
   "version": "3.7.11"
  }
 },
 "nbformat": 4,
 "nbformat_minor": 5
}
