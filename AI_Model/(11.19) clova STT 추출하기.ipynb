{
 "cells": [
  {
   "cell_type": "code",
   "execution_count": 1,
   "id": "ca851c8a",
   "metadata": {},
   "outputs": [
    {
     "name": "stdout",
     "output_type": "stream",
     "text": [
      "b'{\"language\": \"ko-KR\", \"completion\": \"sync\", \"callback\": null, \"userdata\": null, \"wordAlignment\": true, \"fullText\": true, \"forbiddens\": null, \"boostings\": null, \"diarization\": null}'\n",
      "{\"result\":\"COMPLETED\",\"message\":\"Succeeded\",\"token\":\"586aec38d38a415eafa801c88c64aadd\",\"version\":\"ncp_v2_v2.0.2-13511f0-20211125_v1.5.8_20211125_\",\"params\":{\"service\":\"ncp\",\"domain\":\"general\",\"lang\":\"ko\",\"completion\":\"sync\",\"diarization\":{\"enable\":true,\"speakerCountMin\":-1,\"speakerCountMax\":-1},\"boostings\":[],\"forbiddens\":\"\",\"wordAlignment\":true,\"fullText\":true,\"resultToObs\":false,\"priority\":0,\"userdata\":{\"_ncp_DomainCode\":\"PBL-free\",\"_ncp_DomainId\":1426,\"_ncp_TaskId\":2036092,\"_ncp_TraceId\":\"53fbd8a2a37a43a7b74b592fc1e2135e\"}},\"progress\":100,\"keywords\":{},\"segments\":[{\"start\":980,\"end\":8590,\"text\":\"이번 신제품 출시에 대한 시장의 반응은 어때. 미친 개 같아.\",\"confidence\":0.9516253,\"diarization\":{\"label\":\"1\"},\"speaker\":{\"label\":\"1\",\"name\":\"A\",\"edited\":false},\"words\":[[981,1420,\"이번\"],[1890,2460,\"신제품\"],[2530,2940,\"출시에\"],[2941,3140,\"대한\"],[3230,3560,\"시장의\"],[3570,3980,\"반응은\"],[3981,4420,\"어때.\"],[6710,7080,\"미친\"],[7630,7780,\"개\"],[7890,8320,\"같아.\"]],\"textEdited\":\"이번 신제품 출시에 대한 시장의 반응은 어때. 미친 개 같아.\"},{\"start\":9880,\"end\":15740,\"text\":\"시장의 반응이 차가워. 아 그런 젓 같은 일이\",\"confidence\":0.888707,\"diarization\":{\"label\":\"1\"},\"speaker\":{\"label\":\"1\",\"name\":\"A\",\"edited\":false},\"words\":[[9881,10400,\"시장의\"],[10430,10760,\"반응이\"],[10850,11340,\"차가워.\"],[13550,13700,\"아\"],[14010,14280,\"그런\"],[14450,14600,\"젓\"],[14770,15160,\"같은\"],[15290,15560,\"일이\"]],\"textEdited\":\"시장의 반응이 차가워. 아 그런 젓 같은 일이\"},{\"start\":17430,\"end\":26290,\"text\":\"우린 이제 야근의 연속이겠다. 판매량이 지난번 제품보다는 좋다고는 하는데\",\"confidence\":0.9655003,\"diarization\":{\"label\":\"1\"},\"speaker\":{\"label\":\"1\",\"name\":\"A\",\"edited\":false},\"words\":[[17431,17830,\"우린\"],[17860,18130,\"이제\"],[18460,18830,\"야근의\"],[18880,19530,\"연속이겠다.\"],[22640,23170,\"판매량이\"],[23860,24330,\"지난번\"],[24380,25070,\"제품보다는\"],[25080,25630,\"좋다고는\"],[25631,26070,\"하는데\"]],\"textEdited\":\"우린 이제 야근의 연속이겠다. 판매량이 지난번 제품보다는 좋다고는 하는데\"},{\"start\":26480,\"end\":35740,\"text\":\"모르겠다. 뭐가 문제인 걸까. 우리가 엿 같이 한 탓이지.\",\"confidence\":0.9679372,\"diarization\":{\"label\":\"1\"},\"speaker\":{\"label\":\"1\",\"name\":\"A\",\"edited\":false},\"words\":[[26481,27060,\"모르겠다.\"],[29970,30260,\"뭐가\"],[30270,30640,\"문제인\"],[30710,31120,\"걸까.\"],[33370,33720,\"우리가\"],[34210,34360,\"엿\"],[34510,34720,\"같이\"],[34850,35000,\"한\"],[35050,35580,\"탓이지.\"]],\"textEdited\":\"모르겠다. 뭐가 문제인 걸까. 우리가 엿 같이 한 탓이지.\"},{\"start\":37180,\"end\":40240,\"text\":\"야 야 진정해. 다시 분석해 보자.\",\"confidence\":0.7947656,\"diarization\":{\"label\":\"1\"},\"speaker\":{\"label\":\"1\",\"name\":\"A\",\"edited\":false},\"words\":[[37181,37300,\"야\"],[37690,37840,\"야\"],[38190,38600,\"진정해.\"],[38950,39260,\"다시\"],[39270,39620,\"분석해\"],[39670,39920,\"보자.\"]],\"textEdited\":\"야 야 진정해. 다시 분석해 보자.\"}],\"text\":\"이번 신제품 출시에 대한 시장의 반응은 어때. 미친 개 같아. 시장의 반응이 차가워. 아 그런 젓 같은 일이 우린 이제 야근의 연속이겠다. 판매량이 지난번 제품보다는 좋다고는 하는데 모르겠다. 뭐가 문제인 걸까. 우리가 엿 같이 한 탓이지. 야 야 진정해. 다시 분석해 보자.\",\"confidence\":0.9291963,\"speakers\":[{\"label\":\"1\",\"name\":\"A\",\"edited\":false}]}\n"
     ]
    }
   ],
   "source": [
    "import requests\n",
    "import json\n",
    "\n",
    "\n",
    "class ClovaSpeechClient:\n",
    "    # Clova Speech invoke URL\n",
    "    invoke_url = ''\n",
    "    # Clova Speech secret key\n",
    "    secret = ''\n",
    "\n",
    "    def req_url(self, url, completion, callback=None, userdata=None, forbiddens=None, boostings=None, wordAlignment=True, fullText=True, diarization=None):\n",
    "        request_body = {\n",
    "            'url': url,\n",
    "            'language': 'ko-KR',\n",
    "            'completion': completion,\n",
    "            'callback': callback,\n",
    "            'userdata': userdata,\n",
    "            'wordAlignment': wordAlignment,\n",
    "            'fullText': fullText,\n",
    "            'forbiddens': forbiddens,\n",
    "            'boostings': boostings,\n",
    "            'diarization': diarization,\n",
    "        }\n",
    "        headers = {\n",
    "            'Accept': 'application/json;UTF-8',\n",
    "            'Content-Type': 'application/json;UTF-8',\n",
    "            'X-CLOVASPEECH-API-KEY': self.secret\n",
    "        }\n",
    "        return requests.post(headers=headers,\n",
    "                             url=self.invoke_url + '/recognizer/url',\n",
    "                             data=json.dumps(request_body).encode('UTF-8'))\n",
    "\n",
    "    def req_object_storage(self, data_key, completion, callback=None, userdata=None, forbiddens=None, boostings=None,\n",
    "                           wordAlignment=True, fullText=True, diarization=None):\n",
    "        request_body = {\n",
    "            'dataKey': data_key,\n",
    "            'language': 'ko-KR',\n",
    "            'completion': completion,\n",
    "            'callback': callback,\n",
    "            'userdata': userdata,\n",
    "            'wordAlignment': wordAlignment,\n",
    "            'fullText': fullText,\n",
    "            'forbiddens': forbiddens,\n",
    "            'boostings': boostings,\n",
    "            'diarization': diarization,\n",
    "        }\n",
    "        headers = {\n",
    "            'Accept': 'application/json;UTF-8',\n",
    "            'Content-Type': 'application/json;UTF-8',\n",
    "            'X-CLOVASPEECH-API-KEY': self.secret\n",
    "        }\n",
    "        return requests.post(headers=headers,\n",
    "                             url=self.invoke_url + '/recognizer/object-storage',\n",
    "                             data=json.dumps(request_body).encode('UTF-8'))\n",
    "\n",
    "    def req_upload(self, file, completion, callback=None, userdata=None, forbiddens=None, boostings=None,\n",
    "                   wordAlignment=True, fullText=True, diarization=None):\n",
    "        request_body = {\n",
    "            'language': 'ko-KR',\n",
    "            'completion': completion,\n",
    "            'callback': callback,\n",
    "            'userdata': userdata,\n",
    "            'wordAlignment': wordAlignment,\n",
    "            'fullText': fullText,\n",
    "            'forbiddens': forbiddens,\n",
    "            'boostings': boostings,\n",
    "            'diarization': diarization,\n",
    "        }\n",
    "        headers = {\n",
    "            'Accept': 'application/json;UTF-8',\n",
    "            'X-CLOVASPEECH-API-KEY': self.secret\n",
    "        }\n",
    "        print(json.dumps(request_body, ensure_ascii=False).encode('UTF-8'))\n",
    "            \n",
    "        files = {\n",
    "            'media': open(file, 'rb'),\n",
    "            'params': (None, json.dumps(request_body, ensure_ascii=False).encode('UTF-8'), 'application/json')\n",
    "        }\n",
    "        response = requests.post(headers=headers, url=self.invoke_url + '/recognizer/upload', files=files)\n",
    "        return response\n",
    "\n",
    "if __name__ == '__main__':\n",
    "    # res = ClovaSpeechClient().req_url(url='http://example.com/media.mp3', completion='sync')\n",
    "    # res = ClovaSpeechClient().req_object_storage(data_key='data/media.mp3', completion='sync')\n",
    "    res = ClovaSpeechClient().req_upload(file='D:/PBL 스터디/PBL 실습/audio&data/test_audio.mp4', completion='sync')\n",
    "    print(res.text)\n",
    "    json_data = res.text\n",
    "    json_decode_data = json_data\n",
    "    with open('1126_clovatest.json', 'w', encoding='UTF-8') as f:\n",
    "        f.write(json_decode_data)\n",
    "    \n"
   ]
  },
  {
   "cell_type": "code",
   "execution_count": 2,
   "id": "b240676b",
   "metadata": {},
   "outputs": [],
   "source": [
    "import json \n",
    "with open(\"1126_clovatest.json\", \"r\", encoding=\"utf8\") as f:\n",
    "    contents = f.read() # string 타입 \n",
    "    json_d = json.loads(contents)\n",
    "    "
   ]
  },
  {
   "cell_type": "code",
   "execution_count": 3,
   "id": "cc8c16cc",
   "metadata": {},
   "outputs": [],
   "source": [
    "import pandas as pd"
   ]
  },
  {
   "cell_type": "code",
   "execution_count": 4,
   "id": "f6e5b531",
   "metadata": {
    "scrolled": true
   },
   "outputs": [
    {
     "data": {
      "text/html": [
       "<div>\n",
       "<style scoped>\n",
       "    .dataframe tbody tr th:only-of-type {\n",
       "        vertical-align: middle;\n",
       "    }\n",
       "\n",
       "    .dataframe tbody tr th {\n",
       "        vertical-align: top;\n",
       "    }\n",
       "\n",
       "    .dataframe thead th {\n",
       "        text-align: right;\n",
       "    }\n",
       "</style>\n",
       "<table border=\"1\" class=\"dataframe\">\n",
       "  <thead>\n",
       "    <tr style=\"text-align: right;\">\n",
       "      <th></th>\n",
       "      <th>sentence</th>\n",
       "      <th>start</th>\n",
       "      <th>end</th>\n",
       "    </tr>\n",
       "  </thead>\n",
       "  <tbody>\n",
       "    <tr>\n",
       "      <th>0</th>\n",
       "      <td>이번 신제품 출시에 대한 시장의 반응은 어때. 미친 개 같아.</td>\n",
       "      <td>980</td>\n",
       "      <td>8590</td>\n",
       "    </tr>\n",
       "    <tr>\n",
       "      <th>1</th>\n",
       "      <td>시장의 반응이 차가워. 아 그런 젓 같은 일이</td>\n",
       "      <td>9880</td>\n",
       "      <td>15740</td>\n",
       "    </tr>\n",
       "    <tr>\n",
       "      <th>2</th>\n",
       "      <td>우린 이제 야근의 연속이겠다. 판매량이 지난번 제품보다는 좋다고는 하는데</td>\n",
       "      <td>17430</td>\n",
       "      <td>26290</td>\n",
       "    </tr>\n",
       "    <tr>\n",
       "      <th>3</th>\n",
       "      <td>모르겠다. 뭐가 문제인 걸까. 우리가 엿 같이 한 탓이지.</td>\n",
       "      <td>26480</td>\n",
       "      <td>35740</td>\n",
       "    </tr>\n",
       "    <tr>\n",
       "      <th>4</th>\n",
       "      <td>야 야 진정해. 다시 분석해 보자.</td>\n",
       "      <td>37180</td>\n",
       "      <td>40240</td>\n",
       "    </tr>\n",
       "  </tbody>\n",
       "</table>\n",
       "</div>"
      ],
      "text/plain": [
       "                                   sentence  start    end\n",
       "0        이번 신제품 출시에 대한 시장의 반응은 어때. 미친 개 같아.    980   8590\n",
       "1                 시장의 반응이 차가워. 아 그런 젓 같은 일이   9880  15740\n",
       "2  우린 이제 야근의 연속이겠다. 판매량이 지난번 제품보다는 좋다고는 하는데  17430  26290\n",
       "3          모르겠다. 뭐가 문제인 걸까. 우리가 엿 같이 한 탓이지.  26480  35740\n",
       "4                       야 야 진정해. 다시 분석해 보자.  37180  40240"
      ]
     },
     "execution_count": 4,
     "metadata": {},
     "output_type": "execute_result"
    }
   ],
   "source": [
    "sentence = []\n",
    "start = []\n",
    "end = []\n",
    "\n",
    "for i in range(0, len(json_d[\"segments\"])):\n",
    "    sentence.append(json_d[\"segments\"][i]['text'])\n",
    "    start.append(json_d[\"segments\"][i]['start'])\n",
    "    end.append(json_d[\"segments\"][i]['end'])\n",
    "    \n",
    "    \n",
    "df = pd.DataFrame({'sentence':sentence, \n",
    "                 'start' : start,\n",
    "                 'end' : end})\n",
    "df.head()"
   ]
  },
  {
   "cell_type": "code",
   "execution_count": 5,
   "id": "8e1aa343",
   "metadata": {},
   "outputs": [
    {
     "data": {
      "text/plain": [
       "5"
      ]
     },
     "execution_count": 5,
     "metadata": {},
     "output_type": "execute_result"
    }
   ],
   "source": [
    "len(json_d[\"segments\"])"
   ]
  },
  {
   "cell_type": "code",
   "execution_count": 7,
   "id": "05d9b21b",
   "metadata": {},
   "outputs": [],
   "source": [
    "df.to_csv('D:/PBL 스터디/PBL 실습/pbl_data_in/clova.csv', ',' ,index=False)"
   ]
  }
 ],
 "metadata": {
  "kernelspec": {
   "display_name": "Python 3 (ipykernel)",
   "language": "python",
   "name": "python3"
  },
  "language_info": {
   "codemirror_mode": {
    "name": "ipython",
    "version": 3
   },
   "file_extension": ".py",
   "mimetype": "text/x-python",
   "name": "python",
   "nbconvert_exporter": "python",
   "pygments_lexer": "ipython3",
   "version": "3.7.11"
  }
 },
 "nbformat": 4,
 "nbformat_minor": 5
}
