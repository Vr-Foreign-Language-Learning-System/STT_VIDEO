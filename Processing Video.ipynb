{
 "cells": [
  {
   "cell_type": "code",
   "execution_count": 93,
   "id": "2093e03c",
   "metadata": {},
   "outputs": [],
   "source": [
    "import os\n",
    "import pandas as pd\n",
    "#from pytube import YouTube\n",
    "from moviepy.editor import *\n",
    "import librosa\n",
    "import soundfile as sf\n",
    "import numpy as np\n",
    "import shutil"
   ]
  },
  {
   "cell_type": "code",
   "execution_count": 94,
   "id": "22623d73",
   "metadata": {},
   "outputs": [],
   "source": [
    "class bcolors:\n",
    "    HEADER = '\\033[95m'\n",
    "    OKBLUE = '\\033[94m'\n",
    "    OKGREEN = '\\033[92m'\n",
    "    WARNING = '\\033[93m'\n",
    "    FAIL = '\\033[91m'\n",
    "    ENDC = '\\033[0m'\n",
    "    BOLD = '\\033[1m'\n",
    "    UNDERLINE = '\\033[4m'"
   ]
  },
  {
   "cell_type": "code",
   "execution_count": 95,
   "id": "4f057b3e",
   "metadata": {},
   "outputs": [
    {
     "data": {
      "text/html": [
       "<div>\n",
       "<style scoped>\n",
       "    .dataframe tbody tr th:only-of-type {\n",
       "        vertical-align: middle;\n",
       "    }\n",
       "\n",
       "    .dataframe tbody tr th {\n",
       "        vertical-align: top;\n",
       "    }\n",
       "\n",
       "    .dataframe thead th {\n",
       "        text-align: right;\n",
       "    }\n",
       "</style>\n",
       "<table border=\"1\" class=\"dataframe\">\n",
       "  <thead>\n",
       "    <tr style=\"text-align: right;\">\n",
       "      <th></th>\n",
       "      <th>sentence</th>\n",
       "      <th>start</th>\n",
       "      <th>end</th>\n",
       "      <th>predict</th>\n",
       "    </tr>\n",
       "  </thead>\n",
       "  <tbody>\n",
       "    <tr>\n",
       "      <th>0</th>\n",
       "      <td>이번 신제품 출시에 대한 시장의 반응은 어때. 미친 개 같아.</td>\n",
       "      <td>980</td>\n",
       "      <td>8590</td>\n",
       "      <td>0.937683</td>\n",
       "    </tr>\n",
       "    <tr>\n",
       "      <th>1</th>\n",
       "      <td>시장의 반응이 차가워. 아 그런 젓 같은 일이</td>\n",
       "      <td>9880</td>\n",
       "      <td>15740</td>\n",
       "      <td>0.961118</td>\n",
       "    </tr>\n",
       "    <tr>\n",
       "      <th>2</th>\n",
       "      <td>우린 이제 야근의 연속이겠다. 판매량이 지난번 제품보다는 좋다고는 하는데</td>\n",
       "      <td>17430</td>\n",
       "      <td>26290</td>\n",
       "      <td>0.043407</td>\n",
       "    </tr>\n",
       "    <tr>\n",
       "      <th>3</th>\n",
       "      <td>모르겠다. 뭐가 문제인 걸까. 우리가 엿 같이 한 탓이지.</td>\n",
       "      <td>26480</td>\n",
       "      <td>35740</td>\n",
       "      <td>0.645844</td>\n",
       "    </tr>\n",
       "    <tr>\n",
       "      <th>4</th>\n",
       "      <td>야 야 진정해. 다시 분석해 보자.</td>\n",
       "      <td>37180</td>\n",
       "      <td>40240</td>\n",
       "      <td>0.097138</td>\n",
       "    </tr>\n",
       "  </tbody>\n",
       "</table>\n",
       "</div>"
      ],
      "text/plain": [
       "                                   sentence  start    end   predict\n",
       "0        이번 신제품 출시에 대한 시장의 반응은 어때. 미친 개 같아.    980   8590  0.937683\n",
       "1                 시장의 반응이 차가워. 아 그런 젓 같은 일이   9880  15740  0.961118\n",
       "2  우린 이제 야근의 연속이겠다. 판매량이 지난번 제품보다는 좋다고는 하는데  17430  26290  0.043407\n",
       "3          모르겠다. 뭐가 문제인 걸까. 우리가 엿 같이 한 탓이지.  26480  35740  0.645844\n",
       "4                       야 야 진정해. 다시 분석해 보자.  37180  40240  0.097138"
      ]
     },
     "execution_count": 95,
     "metadata": {},
     "output_type": "execute_result"
    }
   ],
   "source": [
    "# 경로 정의\n",
    "DATA_IN_PATH = 'D:/PBL 스터디/PBL 실습/audio&data/'\n",
    "PATH_DATA = 'D:/PBL 스터디/PBL 실습/'\n",
    "INPUT_DATA = 'clova_result.csv'\n",
    "\n",
    "test_data = pd.read_csv(PATH_DATA+'clova_result.csv', header = 0)\n",
    "pred_df = pd.DataFrame({'sentence':test_data['sentence'], 'start':test_data['start'], 'end':test_data['end'],'predict':test_data['results']})\n",
    "pred_df"
   ]
  },
  {
   "cell_type": "code",
   "execution_count": 96,
   "id": "312092f7",
   "metadata": {},
   "outputs": [],
   "source": [
    "start = []\n",
    "end = []\n",
    "result = []\n",
    "\n",
    "for i in range(len(pred_df)):\n",
    "    start.append(int(pred_df['start'][i]*44.1))\n",
    "    end.append(int(pred_df['end'][i]*44.1))\n",
    "    \n",
    "    if pred_df['predict'][i] >= 0.7:\n",
    "        result.append(1)\n",
    "    else:\n",
    "        result.append(0)\n",
    "\n"
   ]
  },
  {
   "cell_type": "code",
   "execution_count": 97,
   "id": "ad1254e9",
   "metadata": {},
   "outputs": [
    {
     "data": {
      "text/plain": [
       "[1, 1, 0, 0, 0]"
      ]
     },
     "execution_count": 97,
     "metadata": {},
     "output_type": "execute_result"
    }
   ],
   "source": [
    "result"
   ]
  },
  {
   "cell_type": "code",
   "execution_count": 98,
   "id": "adc04acb",
   "metadata": {},
   "outputs": [],
   "source": [
    "# # 단위: ms (1000분의 1초)\n",
    "# start = [980, 9880, 17380, 26480, 37180]\n",
    "# for i in range(0, len(start)):\n",
    "#     start[i] = int(start[i]*44.1)\n",
    "# end = [8590, 15740, 26290, 35740, 40190]\n",
    "# for i in range(0, len(end)):\n",
    "#     end[i] = int(end[i] * 44.1)\n",
    "# result = [1, 1, 0, 1, 0]\n",
    "# start"
   ]
  },
  {
   "cell_type": "code",
   "execution_count": 99,
   "id": "af1c75e7",
   "metadata": {},
   "outputs": [],
   "source": [
    "# def make_quiet_wav(wav, y, output_name):\n",
    "#     quiet, _ = librosa.load(DATA_IN_PATH+'quiet.wav', sr = 44100)\n",
    "#     data, _ = librosa.load(wav, sr=44100)\n",
    "#     length = len(y)\n",
    "#     for i in range(1, length):\n",
    "#         tmp = int(len(data)*(i)/length)\n",
    "#         t_1 = y[i-1] # 이전 구간\n",
    "#         t = y[i] # 현재구간\n",
    "#         if (t_1 == 0) and (t == 1):\n",
    "#             if tmp > 22000 :\n",
    "#                 data[tmp-22000:tmp] = quiet[:22000] * 1.0\n",
    "#             else:\n",
    "#                 data[:tmp] = quiet[:tmp] * 1.0  #a[2]-a[1]\n",
    "#     sf.write(output_name, data, 44100)"
   ]
  },
  {
   "cell_type": "code",
   "execution_count": 100,
   "id": "ecc226cf",
   "metadata": {},
   "outputs": [],
   "source": [
    "def make_quiet_wav(wav, result, start, end, output_name):\n",
    "    quiet, _ = librosa.load(DATA_IN_PATH+'quiet.wav', sr = 44100) # 무음 파일 로드\n",
    "    data, _ = librosa.load(wav, sr=44100) # 변환할 음성 파일 로드\n",
    "    # data -> samplerate로 나누면 초(s) 단위\n",
    "    \n",
    "    length = len(result) # 단위 개수\n",
    "    lenq = len(quiet) #694575\n",
    "    \n",
    "    for i in range(0, length):\n",
    "        tmp = int(end[i] - start[i])\n",
    "        r = result[i]\n",
    "        print(\"for문 : [{}] {} : {}\".format(r, start[i]/44100, end[i]/44100))\n",
    "        if (r == 1):\n",
    "            if tmp > lenq:\n",
    "                data[end[i]-lenq:end[i]] = quiet[:]\n",
    "                print(\"quiet : {}:{}\".format((end[i]-lenq)/44100, end[i]/44100))\n",
    "            else:\n",
    "                data[start[i]:end[i]] = quiet[:tmp] * 1.0  \n",
    "                print(\"quiet : {}:{}\".format(start[i]/44100, end[i]/44100))\n",
    "    sf.write(output_name, data, 44100)"
   ]
  },
  {
   "cell_type": "code",
   "execution_count": 101,
   "id": "73f523c0",
   "metadata": {},
   "outputs": [
    {
     "name": "stdout",
     "output_type": "stream",
     "text": [
      "ID: 32\n",
      "\u001b[92m\n",
      "please wait! \n",
      "\u001b[0m\n",
      "\u001b[92m\n",
      "Make copy of video ! \n",
      "\u001b[0m\n",
      "MoviePy - Writing audio in D:/PBL 스터디/PBL 실습/audio&data/32\\copy.wav\n"
     ]
    },
    {
     "name": "stderr",
     "output_type": "stream",
     "text": [
      "                                                                                                                       \r"
     ]
    },
    {
     "name": "stdout",
     "output_type": "stream",
     "text": [
      "MoviePy - Done.\n",
      "\u001b[92m\n",
      "Chage mp4 to wav ! \n",
      "\u001b[0m\n",
      "for문 : [1] 0.98 : 8.59\n",
      "quiet : 0.98:8.59\n",
      "for문 : [1] 9.88 : 15.74\n",
      "quiet : 9.88:15.74\n",
      "for문 : [0] 17.43 : 26.29\n",
      "for문 : [0] 26.48 : 35.74\n",
      "for문 : [0] 37.18 : 40.24\n",
      "Moviepy - Building video D:/PBL 스터디/PBL 실습/audio&data/32\\32_result_test_audio.mp4.\n",
      "MoviePy - Writing audio in 32_result_test_audioTEMP_MPY_wvf_snd.mp3\n"
     ]
    },
    {
     "name": "stderr",
     "output_type": "stream",
     "text": [
      "                                                                                                                       \r"
     ]
    },
    {
     "name": "stdout",
     "output_type": "stream",
     "text": [
      "MoviePy - Done.\n",
      "Moviepy - Writing video D:/PBL 스터디/PBL 실습/audio&data/32\\32_result_test_audio.mp4\n",
      "\n"
     ]
    },
    {
     "name": "stderr",
     "output_type": "stream",
     "text": [
      "                                                                                                                       \r"
     ]
    },
    {
     "name": "stdout",
     "output_type": "stream",
     "text": [
      "Moviepy - Done !\n",
      "Moviepy - video ready D:/PBL 스터디/PBL 실습/audio&data/32\\32_result_test_audio.mp4\n",
      "\u001b[92m\n",
      "Now you can check!!! \u001b[0m\n",
      "\u001b[92m\n",
      "Done !!! \n",
      "\u001b[0m\n"
     ]
    }
   ],
   "source": [
    "def main(video, idd=0):\n",
    "    data_output = DATA_IN_PATH + str(idd) + \"\\\\\"\n",
    "    print(bcolors.OKGREEN + '\\nplease wait! \\n' + bcolors.ENDC)\n",
    "\n",
    "    # 파일 복사하기 (사본 생성)\n",
    "    shutil.copy2(DATA_IN_PATH+video, data_output+\"copied_\"+video)\n",
    "    print(bcolors.OKGREEN + '\\nMake copy of video ! \\n' + bcolors.ENDC)\n",
    "\n",
    "    videoclip = VideoFileClip(data_output+\"copied_\"+video)\n",
    "    audioclip = videoclip.audio\n",
    "    audioclip.write_audiofile(data_output+\"copy.wav\") # 음성 wav 추출하기\n",
    "    print(bcolors.OKGREEN + '\\nChage mp4 to wav ! \\n' + bcolors.ENDC)\n",
    "    \n",
    "    y =  [0,1,0,0,0,1,0,0,1,0]\n",
    "    #      0 1 2 3 4 5 6 7 8 9\n",
    "    # 0 3~4 6~7\n",
    "\n",
    "    # 0    1    2  3\n",
    "    # a   1.0  3.0 아메리카노\n",
    "    make_quiet_wav(data_output+\"copy.wav\", result, start, end, data_output+\"{}_result_{}.wav\".format(idd, video))\n",
    "    videoclip = videoclip.set_audio(AudioFileClip(data_output+\"{}_result_{}.wav\".format(idd, video)))\n",
    "    videoclip = videoclip.subclip(0, 42)\n",
    "    videoclip.write_videofile(data_output+\"{}_result_{}\".format(idd, video))\n",
    "\n",
    "    print(bcolors.OKGREEN + '\\nNow you can check!!! ' + bcolors.ENDC)\n",
    "\n",
    "    # 데이터 길이 10개, 0->1로 바뀌는 구간 총 5번. 실제 묵음 처리 5번\n",
    "    # 데이터 길이 5개, 0->1로 바뀌는 구간 2번. 실제 묵음 동일.\n",
    "    # 영상 길이와 데이터 길이에 따라 구간 변경?\n",
    "    # 영상 길이에 따라 간격은 달라지는 것 같음.\n",
    "    # 앞 팀에게 데이터 요청시 start time 과 endtime 분배 요청하기\n",
    "\n",
    "if __name__ == '__main__':\n",
    "    video= \"test_audio.mp4\"\n",
    "    #video= \"small_test_audio.mp4\"\n",
    "    idd = int(input('ID: '))\n",
    "    data_output = DATA_IN_PATH + str(idd) + \"\\\\\"\n",
    "    try:\n",
    "        if not os.path.exists(data_output):\n",
    "            os.makedirs(data_output)\n",
    "    except OSError:\n",
    "        print('Error: Creating directory. ' + data_output)\n",
    "        quit()\n",
    "\n",
    "    main(video, idd)\n",
    "    print(bcolors.OKGREEN + '\\nDone !!! \\n' + bcolors.ENDC)\n"
   ]
  },
  {
   "cell_type": "code",
   "execution_count": null,
   "id": "5355a1fc",
   "metadata": {},
   "outputs": [],
   "source": []
  },
  {
   "cell_type": "code",
   "execution_count": null,
   "id": "d8b3eb0f",
   "metadata": {},
   "outputs": [],
   "source": []
  },
  {
   "cell_type": "code",
   "execution_count": null,
   "id": "4ff76472",
   "metadata": {},
   "outputs": [],
   "source": []
  },
  {
   "cell_type": "code",
   "execution_count": null,
   "id": "deaf120b",
   "metadata": {},
   "outputs": [],
   "source": []
  }
 ],
 "metadata": {
  "kernelspec": {
   "display_name": "Python 3 (ipykernel)",
   "language": "python",
   "name": "python3"
  },
  "language_info": {
   "codemirror_mode": {
    "name": "ipython",
    "version": 3
   },
   "file_extension": ".py",
   "mimetype": "text/x-python",
   "name": "python",
   "nbconvert_exporter": "python",
   "pygments_lexer": "ipython3",
   "version": "3.7.11"
  }
 },
 "nbformat": 4,
 "nbformat_minor": 5
}
